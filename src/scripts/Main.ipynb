{
 "cells": [
  {
   "cell_type": "markdown",
   "metadata": {},
   "source": [
    "# Import Packages"
   ]
  },
  {
   "cell_type": "code",
   "execution_count": 2,
   "metadata": {},
   "outputs": [],
   "source": [
    "import sys\n",
    "import os\n",
    "import xarray as xr\n",
    "import numpy\n",
    "import time\n",
    "import matplotlib.pyplot as plt\n",
    "import numpy as np\n",
    "import time\n",
    "from datetime import datetime\n",
    "import random\n",
    "sys.path.append(os.path.join(os.path.abspath(''), '..', 'modules'))\n",
    "\n",
    "from dask.diagnostics import ProgressBar\n",
    "import lorenz\n",
    "import statlorenz\n",
    "import plotting\n",
    "import general"
   ]
  },
  {
   "cell_type": "markdown",
   "metadata": {},
   "source": [
    "# Set Random Seed"
   ]
  },
  {
   "cell_type": "code",
   "execution_count": 2,
   "metadata": {},
   "outputs": [],
   "source": [
    "random.seed(datetime.now())"
   ]
  },
  {
   "cell_type": "markdown",
   "metadata": {},
   "source": [
    "# Metadata"
   ]
  },
  {
   "cell_type": "code",
   "execution_count": 3,
   "metadata": {},
   "outputs": [],
   "source": [
    "# General parameters\n",
    "## Hindcast parameters\n",
    "Ncores                = 20     # Number of cores used for creating the experiments\n",
    "Nens                  = 100    # Number of ensemble members for each forecast\n",
    "Nexp                  = 100    # Number of years\n",
    "length_forecast       = 20     # Length of the forecast in timeunits\n",
    "\n",
    "## Model parameters for reference run\n",
    "rho                   = 28\n",
    "beta                  = 8./3.\n",
    "sigma                 = 10.0\n",
    "\n",
    "## Model parameters for forecast run\n",
    "rho_hin               = 28\n",
    "beta_hin              = 8./3.\n",
    "sigma_hin             = 10.0\n",
    "\n",
    "## Observational spread\n",
    "std_obs               = 0.01\n",
    "\n",
    "# Experiment specific parameters\n",
    "## Incremental spread experiment\n",
    "Nsample_increment     = 501    # Number of samples\n",
    "std_ens_min           = 0.001\n",
    "std_ens_max           = 0.1\n",
    "\n",
    "## Reliable Spread Experiment\n",
    "std_ens_min_reliable = 0.01\n",
    "std_ens_max_reliable = 0.01\n",
    "Nsample_reliable     = 100\n",
    "\n",
    "## Low Spread Experiment\n",
    "std_ens_min_over = 0.001\n",
    "std_ens_max_over = 0.001\n",
    "Nsample_over     = 100\n",
    "\n",
    "## High Spread Experiment\n",
    "std_ens_min_under = 0.1\n",
    "std_ens_max_under = 0.1\n",
    "Nsample_under     = 100"
   ]
  },
  {
   "cell_type": "markdown",
   "metadata": {},
   "source": [
    "# Define Output Paths"
   ]
  },
  {
   "cell_type": "code",
   "execution_count": 4,
   "metadata": {},
   "outputs": [],
   "source": [
    "path_data    = os.path.join(os.path.abspath(\"\"),\"..\",\"..\",\"data\")\n",
    "path_results = os.path.join(os.path.abspath(\"\"),\"..\",\"..\",\"results\")"
   ]
  },
  {
   "cell_type": "code",
   "execution_count": 5,
   "metadata": {},
   "outputs": [],
   "source": [
    "path_numbers = os.path.join(path_results,\"numbers\")\n",
    "path_pool = os.path.join(path_data,\"InitialConditions\")"
   ]
  },
  {
   "cell_type": "code",
   "execution_count": 6,
   "metadata": {},
   "outputs": [],
   "source": [
    "raw_output_path_incremental = os.path.join(path_data, \"PerfectModel_Incremental\")\n",
    "raw_output_path_under       = os.path.join(path_data, \"PerfectModel_Under\") \n",
    "raw_output_path_over        = os.path.join(path_data, \"PerfectModel_Over\")\n",
    "raw_output_path_reliable    = os.path.join(path_data, \"PerfectModel_Reliable\")"
   ]
  },
  {
   "cell_type": "markdown",
   "metadata": {},
   "source": [
    "# Create Output Folders"
   ]
  },
  {
   "cell_type": "code",
   "execution_count": 106,
   "metadata": {},
   "outputs": [
    {
     "data": {
      "text/plain": [
       "256"
      ]
     },
     "execution_count": 106,
     "metadata": {},
     "output_type": "execute_result"
    }
   ],
   "source": [
    "os.system(\"mkdir \" + path_numbers)\n",
    "os.system(\"mkdir \" + raw_output_path_incremental)\n",
    "os.system(\"mkdir \" + raw_output_path_under)\n",
    "os.system(\"mkdir \" + raw_output_path_over)\n",
    "os.system(\"mkdir \" + raw_output_path_reliable)\n",
    "\n",
    "os.system(\"mkdir \"+ path_pool)\n",
    "\n",
    "os.system(\"mkdir \" + os.path.join(path_results,\"Incremental\"))\n",
    "os.system(\"mkdir \" + os.path.join(path_results,\"Overconfident\"))\n",
    "os.system(\"mkdir \" + os.path.join(path_results,\"Underconfident\"))\n",
    "os.system(\"mkdir \" + os.path.join(path_results,\"Reliable\"))\n",
    "\n",
    "os.system(\"mkdir \" + path_results)\n",
    "os.system(\"mkdir \" + path_numbers)"
   ]
  },
  {
   "cell_type": "markdown",
   "metadata": {},
   "source": [
    "# Execution"
   ]
  },
  {
   "cell_type": "markdown",
   "metadata": {},
   "source": [
    "## Create Pool of Initial Conditions for Experiment"
   ]
  },
  {
   "cell_type": "code",
   "execution_count": 8,
   "metadata": {},
   "outputs": [
    {
     "name": "stdout",
     "output_type": "stream",
     "text": [
      "Pool Of Initial conditions already exists. Pool loaded\n"
     ]
    }
   ],
   "source": [
    "filename_pool = os.path.join(path_pool,\"Initial_conditions.nc\")\n",
    "if os.path.exists(filename_pool):\n",
    "    pool_of_initial_conditions=xr.load_dataarray(filename_pool)\n",
    "    print(\"Pool Of Initial conditions already exists. Pool loaded\")\n",
    "else:\n",
    "    pool_of_initial_conditions=lorenz.Create_Pool_Of_Initial_Conditions()\n",
    "    pool_of_initial_conditions.to_netcdf(filename_pool)"
   ]
  },
  {
   "cell_type": "markdown",
   "metadata": {},
   "source": [
    "## Create Permutations"
   ]
  },
  {
   "cell_type": "code",
   "execution_count": 24,
   "metadata": {},
   "outputs": [
    {
     "name": "stdout",
     "output_type": "stream",
     "text": [
      "Pool Of Initial conditions already exists. \n"
     ]
    }
   ],
   "source": [
    "path_permutations=os.path.join(path_data,\"Permutations\")\n",
    "os.system(\"mkdir \"+ path_permutations)\n",
    "filename_permutations = os.path.join(path_permutations,\"Permutations.nc\")\n",
    "if os.path.exists(filename_permutations):\n",
    "    print(\"Pool Of Initial conditions already exists. \")\n",
    "    permutations = xr.load_dataarray(filename_permutations)\n",
    "else:\n",
    "    print(\"Permutations didnt exist. Create new one\")\n",
    "    permutations=statlorenz.create_random_permutations(Nens=Nens)\n",
    "    permutations.to_netcdf(filename_permutations)"
   ]
  },
  {
   "cell_type": "markdown",
   "metadata": {},
   "source": [
    "## Run Experiments"
   ]
  },
  {
   "cell_type": "markdown",
   "metadata": {},
   "source": [
    "### Run Incremental Experiments over range of different std_ens_x from 0.001 to 0.1"
   ]
  },
  {
   "cell_type": "code",
   "execution_count": 17,
   "metadata": {},
   "outputs": [
    {
     "data": {
      "text/plain": [
       "'python CreateExperiments.py --outfolder=/mnt/lustre02/work/uo1075/u301101/SNP_Lorenz_clean/src/scripts/../../data/PerfectModel_Incremental --Ncores=20 --Nens=100 --Nexp=100 --rho=28 --sigma=10.0 --beta=2.6666666666666665 --rho_hin=28 --sigma_hin=10.0 --beta_hin=2.6666666666666665 --std_obs=0.01 --std_ens_min=0.001 --std_ens_max=0.1 --Nsample=501 --length_forecast=20'"
      ]
     },
     "execution_count": 17,
     "metadata": {},
     "output_type": "execute_result"
    }
   ],
   "source": [
    "string_incremental = \"\".join([\"python CreateExperiments.py\",\n",
    "         \" --outfolder=\"     , raw_output_path_incremental,\n",
    "         \" --Ncores=\"        , str(Ncores),\n",
    "                        \" --Nens=\"          , str(Nens),            \n",
    "                        \" --Nexp=\"          , str(Nexp),\n",
    "                        \" --rho=\"           , str(rho),\n",
    "                        \" --sigma=\"         , str(sigma),\n",
    "                        \" --beta=\"          , str(beta),\n",
    "                        \" --rho_hin=\"       , str(rho_hin),\n",
    "                        \" --sigma_hin=\"     , str(sigma_hin),\n",
    "                        \" --beta_hin=\"      , str(beta_hin),\n",
    "                        \" --std_obs=\"       , str(std_obs),\n",
    "                        \" --std_ens_min=\"   , str(std_ens_min),\n",
    "                        \" --std_ens_max=\"   , str(std_ens_max),\n",
    "                        \" --Nsample=\"       , str(Nsample_increment),\n",
    "                        \" --length_forecast=\", str(length_forecast)])"
   ]
  },
  {
   "cell_type": "code",
   "execution_count": null,
   "metadata": {},
   "outputs": [],
   "source": [
    "! {string_incremental}"
   ]
  },
  {
   "cell_type": "markdown",
   "metadata": {},
   "source": [
    "### Run 100 Reliable Experiments for std_ens = 0.01 = std_obs"
   ]
  },
  {
   "cell_type": "code",
   "execution_count": 7,
   "metadata": {},
   "outputs": [
    {
     "data": {
      "text/plain": [
       "'python CreateExperiments.py --outfolder=/mnt/lustre02/work/uo1075/u301101/SNP_Lorenz_clean/src/scripts/../../data/PerfectModel_Reliable --Ncores=20 --Nens=100 --Nexp=100 --rho=28 --sigma=10.0 --beta=2.6666666666666665 --rho_hin=28 --sigma_hin=10.0 --beta_hin=2.6666666666666665 --std_obs=0.01 --std_ens_min=0.01 --std_ens_max=0.01 --Nsample=100 --length_forecast=20'"
      ]
     },
     "execution_count": 7,
     "metadata": {},
     "output_type": "execute_result"
    }
   ],
   "source": [
    "string_reliable =\"\".join([\"python CreateExperiments.py\",\n",
    "                        \" --outfolder=\"     , raw_output_path_reliable,\n",
    "                        \" --Ncores=\"        , str(Ncores),\n",
    "                        \" --Nens=\"          , str(Nens),            \n",
    "                        \" --Nexp=\"          , str(Nexp),\n",
    "                        \" --rho=\"           , str(rho),\n",
    "                        \" --sigma=\"         , str(sigma),\n",
    "                        \" --beta=\"          , str(beta),\n",
    "                        \" --rho_hin=\"       , str(rho_hin),\n",
    "                        \" --sigma_hin=\"     , str(sigma_hin),\n",
    "                        \" --beta_hin=\"      , str(beta_hin),\n",
    "                        \" --std_obs=\"       , str(std_obs),\n",
    "                        \" --std_ens_min=\"   , str(std_ens_min_reliable),\n",
    "                        \" --std_ens_max=\"   , str(std_ens_max_reliable),\n",
    "                        \" --Nsample=\"       , str(Nsample_reliable),\n",
    "                        \" --length_forecast=\", str(length_forecast)])\n",
    "\n",
    "string_reliable"
   ]
  },
  {
   "cell_type": "code",
   "execution_count": 8,
   "metadata": {
    "collapsed": true,
    "jupyter": {
     "outputs_hidden": true
    }
   },
   "outputs": [
    {
     "name": "stdout",
     "output_type": "stream",
     "text": [
      "New Set of Sample started with the following parameters: \n",
      "---------------------------------------------------------\n",
      "output_folder: /mnt/lustre02/work/uo1075/u301101/SNP_Lorenz_clean/src/scripts/../../data/PerfectModel_Reliable\n",
      "Nens: 100\n",
      "Nexp: 100\n",
      "length_forecast: 20\n",
      "rho: 28\n",
      "beta: 2.6666666666666665\n",
      "sigma: 10.0\n",
      "rho_hin: 28\n",
      "beta_hin: 2.6666666666666665\n",
      "sigma_hin: 10.0\n",
      "std_obs: 0.01\n",
      "std_ens_min: 0.01\n",
      "std_ens_max: 0.01\n",
      "Nsample: 100\n",
      "Ncores: 20\n",
      "out_timestep: 0.01\n",
      "Pool of Initial conditions loaded !\n",
      "the different samples have the following standard deviations:\n",
      "[0.01 0.01 0.01 0.01 0.01 0.01 0.01 0.01 0.01 0.01 0.01 0.01 0.01 0.01\n",
      " 0.01 0.01 0.01 0.01 0.01 0.01 0.01 0.01 0.01 0.01 0.01 0.01 0.01 0.01\n",
      " 0.01 0.01 0.01 0.01 0.01 0.01 0.01 0.01 0.01 0.01 0.01 0.01 0.01 0.01\n",
      " 0.01 0.01 0.01 0.01 0.01 0.01 0.01 0.01 0.01 0.01 0.01 0.01 0.01 0.01\n",
      " 0.01 0.01 0.01 0.01 0.01 0.01 0.01 0.01 0.01 0.01 0.01 0.01 0.01 0.01\n",
      " 0.01 0.01 0.01 0.01 0.01 0.01 0.01 0.01 0.01 0.01 0.01 0.01 0.01 0.01\n",
      " 0.01 0.01 0.01 0.01 0.01 0.01 0.01 0.01 0.01 0.01 0.01 0.01 0.01 0.01\n",
      " 0.01 0.01]\n",
      "Parameters setup done!\n",
      "Experiment 0 started at 2020-04-24 10:27:41.651673\n",
      "Experiment 2 started at 2020-04-24 10:27:41.669851\n",
      "Experiment 4 started at 2020-04-24 10:27:41.691304\n",
      "Experiment 6 started at 2020-04-24 10:27:41.705305\n",
      "Experiment 8 started at 2020-04-24 10:27:41.726289\n",
      "Experiment 10 started at 2020-04-24 10:27:41.739549\n",
      "Experiment 12 started at 2020-04-24 10:27:41.752379\n",
      "Experiment 14 started at 2020-04-24 10:27:41.762344\n",
      "Experiment 16 started at 2020-04-24 10:27:41.773450\n",
      "Experiment 18 started at 2020-04-24 10:27:41.784646\n",
      "Experiment 20 started at 2020-04-24 10:27:41.794968\n",
      "Experiment 22 started at 2020-04-24 10:27:41.807108\n",
      "Experiment 24 started at 2020-04-24 10:27:41.818831\n",
      "Experiment 26 started at 2020-04-24 10:27:41.829773\n",
      "Experiment 28 started at 2020-04-24 10:27:41.841307\n",
      "Experiment 30 started at 2020-04-24 10:27:41.854600\n",
      "Experiment 32 started at 2020-04-24 10:27:41.868121\n",
      "Experiment 34 started at 2020-04-24 10:27:41.875741\n",
      "Experiment 36 started at 2020-04-24 10:27:41.895082\n",
      "Experiment 38 started at 2020-04-24 10:27:41.910894\n",
      "Experiment 38 ended at 2020-04-24 10:40:21.729387! Runtime: 759\n",
      "Experiment 39 started at 2020-04-24 10:40:21.755739\n",
      "Experiment 2 ended at 2020-04-24 10:40:30.386782! Runtime: 768\n",
      "Experiment 3 started at 2020-04-24 10:40:30.406097\n",
      "Experiment 10 ended at 2020-04-24 10:40:35.875985! Runtime: 774\n",
      "Experiment 11 started at 2020-04-24 10:40:35.894619\n",
      "Experiment 0 ended at 2020-04-24 10:40:45.978447! Runtime: 784\n",
      "Experiment 1 started at 2020-04-24 10:40:46.018890\n",
      "Experiment 20 ended at 2020-04-24 10:40:49.399731! Runtime: 787\n",
      "Experiment 21 started at 2020-04-24 10:40:49.420556\n",
      "Experiment 14 ended at 2020-04-24 10:40:58.720118! Runtime: 796\n",
      "Experiment 15 started at 2020-04-24 10:40:58.754556\n",
      "Experiment 34 ended at 2020-04-24 10:40:59.318093! Runtime: 797\n",
      "Experiment 35 started at 2020-04-24 10:40:59.371513\n",
      "Experiment 28 ended at 2020-04-24 10:41:02.003128! Runtime: 800\n",
      "Experiment 29 started at 2020-04-24 10:41:02.030784\n",
      "Experiment 18 ended at 2020-04-24 10:41:05.102995! Runtime: 803\n",
      "Experiment 19 started at 2020-04-24 10:41:05.171595\n",
      "Experiment 16 ended at 2020-04-24 10:41:10.320431! Runtime: 808\n",
      "Experiment 17 started at 2020-04-24 10:41:10.363867\n",
      "Experiment 6 ended at 2020-04-24 10:41:18.554774! Runtime: 816\n",
      "Experiment 7 started at 2020-04-24 10:41:18.588261\n",
      "Experiment 30 ended at 2020-04-24 10:41:21.353450! Runtime: 819\n",
      "Experiment 31 started at 2020-04-24 10:41:21.399591\n",
      "Experiment 8 ended at 2020-04-24 10:41:21.831387! Runtime: 820\n",
      "Experiment 9 started at 2020-04-24 10:41:21.872538\n",
      "Experiment 26 ended at 2020-04-24 10:41:24.388782! Runtime: 822\n",
      "Experiment 27 started at 2020-04-24 10:41:24.429104\n",
      "Experiment 36 ended at 2020-04-24 10:41:34.418839! Runtime: 832\n",
      "Experiment 37 started at 2020-04-24 10:41:34.459406\n",
      "Experiment 12 ended at 2020-04-24 10:41:53.402753! Runtime: 851\n",
      "Experiment 13 started at 2020-04-24 10:41:53.442986\n",
      "Experiment 24 ended at 2020-04-24 10:42:19.423354! Runtime: 877\n",
      "Experiment 25 started at 2020-04-24 10:42:19.463938\n",
      "Experiment 32 ended at 2020-04-24 10:42:38.530466! Runtime: 896\n",
      "Experiment 33 started at 2020-04-24 10:42:38.570721\n",
      "Experiment 22 ended at 2020-04-24 10:42:42.544808! Runtime: 900\n",
      "Experiment 23 started at 2020-04-24 10:42:42.573131\n",
      "Experiment 4 ended at 2020-04-24 10:42:56.967159! Runtime: 915\n",
      "Experiment 5 started at 2020-04-24 10:42:56.999239\n",
      "Experiment 39 ended at 2020-04-24 10:53:28.609487! Runtime: 786\n",
      "Experiment 40 started at 2020-04-24 10:53:28.682079\n",
      "Experiment 29 ended at 2020-04-24 10:53:34.504609! Runtime: 752\n",
      "Experiment 42 started at 2020-04-24 10:53:34.581050\n",
      "Experiment 15 ended at 2020-04-24 10:53:34.804401! Runtime: 756\n",
      "Experiment 44 started at 2020-04-24 10:53:34.875558\n",
      "Experiment 3 ended at 2020-04-24 10:53:36.173035! Runtime: 785\n",
      "Experiment 46 started at 2020-04-24 10:53:36.259117\n",
      "Experiment 11 ended at 2020-04-24 10:53:44.727775! Runtime: 788\n",
      "Experiment 48 started at 2020-04-24 10:53:44.811188\n",
      "Experiment 21 ended at 2020-04-24 10:53:57.413024! Runtime: 787\n",
      "Experiment 50 started at 2020-04-24 10:53:57.480097\n",
      "Experiment 19 ended at 2020-04-24 10:54:39.660923! Runtime: 814\n",
      "Experiment 52 started at 2020-04-24 10:54:39.734744\n",
      "Experiment 35 ended at 2020-04-24 10:54:40.584924! Runtime: 821\n",
      "Experiment 54 started at 2020-04-24 10:54:40.646773\n",
      "Experiment 1 ended at 2020-04-24 10:54:47.026596! Runtime: 841\n",
      "Experiment 56 started at 2020-04-24 10:54:47.117262\n",
      "Experiment 17 ended at 2020-04-24 10:54:53.618294! Runtime: 823\n",
      "Experiment 58 started at 2020-04-24 10:54:53.711903\n",
      "Experiment 31 ended at 2020-04-24 10:55:28.926608! Runtime: 847\n",
      "Experiment 60 started at 2020-04-24 10:55:28.996346\n",
      "Experiment 37 ended at 2020-04-24 10:55:37.145388! Runtime: 842\n",
      "Experiment 62 started at 2020-04-24 10:55:37.242329\n",
      "Experiment 9 ended at 2020-04-24 10:55:38.104932! Runtime: 856\n",
      "Experiment 64 started at 2020-04-24 10:55:38.175511\n",
      "Experiment 7 ended at 2020-04-24 10:56:05.121651! Runtime: 886\n",
      "Experiment 66 started at 2020-04-24 10:56:05.215978\n",
      "Experiment 27 ended at 2020-04-24 10:56:17.222421! Runtime: 892\n",
      "Experiment 68 started at 2020-04-24 10:56:17.315020\n",
      "Experiment 33 ended at 2020-04-24 10:56:18.599721! Runtime: 820\n",
      "Experiment 70 started at 2020-04-24 10:56:18.689763\n",
      "Experiment 23 ended at 2020-04-24 10:56:32.325297! Runtime: 829\n",
      "Experiment 72 started at 2020-04-24 10:56:32.416334\n",
      "Experiment 13 ended at 2020-04-24 10:56:53.591255! Runtime: 900\n",
      "Experiment 25 ended at 2020-04-24 10:56:53.643393! Runtime: 874\n",
      "Experiment 74 started at 2020-04-24 10:56:53.680658\n",
      "Experiment 76 started at 2020-04-24 10:56:53.734122\n",
      "Experiment 5 ended at 2020-04-24 10:57:15.591822! Runtime: 858\n",
      "Experiment 78 started at 2020-04-24 10:57:15.655224\n",
      "Experiment 48 ended at 2020-04-24 11:06:54.630470! Runtime: 789\n",
      "Experiment 49 started at 2020-04-24 11:06:54.721979\n",
      "Experiment 46 ended at 2020-04-24 11:07:03.761719! Runtime: 807\n",
      "Experiment 47 started at 2020-04-24 11:07:03.850573\n",
      "Experiment 44 ended at 2020-04-24 11:07:29.381702! Runtime: 834\n",
      "Experiment 45 started at 2020-04-24 11:07:29.446434\n",
      "Experiment 42 ended at 2020-04-24 11:07:45.255029! Runtime: 850\n",
      "Experiment 43 started at 2020-04-24 11:07:45.322772\n",
      "Experiment 40 ended at 2020-04-24 11:07:55.280641! Runtime: 866\n",
      "Experiment 41 started at 2020-04-24 11:07:55.378585\n",
      "Experiment 50 ended at 2020-04-24 11:08:34.325825! Runtime: 876\n",
      "Experiment 51 started at 2020-04-24 11:08:34.422202\n",
      "Experiment 54 ended at 2020-04-24 11:08:46.890854! Runtime: 846\n",
      "Experiment 55 started at 2020-04-24 11:08:46.959393\n",
      "Experiment 52 ended at 2020-04-24 11:09:10.183610! Runtime: 870\n",
      "Experiment 53 started at 2020-04-24 11:09:10.280677\n",
      "Experiment 58 ended at 2020-04-24 11:09:24.636818! Runtime: 870\n",
      "Experiment 59 started at 2020-04-24 11:09:24.748503\n",
      "Experiment 56 ended at 2020-04-24 11:10:11.930180! Runtime: 924\n",
      "Experiment 57 started at 2020-04-24 11:10:12.027704\n",
      "Experiment 60 ended at 2020-04-24 11:10:14.969970! Runtime: 885\n",
      "Experiment 61 started at 2020-04-24 11:10:15.036643\n",
      "Experiment 64 ended at 2020-04-24 11:10:59.113410! Runtime: 920\n",
      "Experiment 65 started at 2020-04-24 11:10:59.216051\n",
      "Experiment 66 ended at 2020-04-24 11:11:30.806439! Runtime: 925\n",
      "Experiment 67 started at 2020-04-24 11:11:30.888194\n",
      "Experiment 74 ended at 2020-04-24 11:11:40.582130! Runtime: 886\n",
      "Experiment 75 started at 2020-04-24 11:11:40.660454\n",
      "Experiment 62 ended at 2020-04-24 11:11:42.984503! Runtime: 965\n",
      "Experiment 63 started at 2020-04-24 11:11:43.043633\n",
      "Experiment 72 ended at 2020-04-24 11:12:06.815081! Runtime: 934\n",
      "Experiment 73 started at 2020-04-24 11:12:06.882472\n",
      "Experiment 78 ended at 2020-04-24 11:12:07.895325! Runtime: 892\n",
      "Experiment 79 started at 2020-04-24 11:12:07.957180\n",
      "Experiment 76 ended at 2020-04-24 11:12:13.101081! Runtime: 919\n",
      "Experiment 77 started at 2020-04-24 11:12:13.191838\n",
      "Experiment 68 ended at 2020-04-24 11:12:32.440486! Runtime: 975\n",
      "Experiment 69 started at 2020-04-24 11:12:32.523207\n",
      "Experiment 70 ended at 2020-04-24 11:13:00.409969! Runtime: 1001\n",
      "Experiment 71 started at 2020-04-24 11:13:00.480790\n",
      "Experiment 49 ended at 2020-04-24 11:22:28.953827! Runtime: 934\n",
      "Experiment 80 started at 2020-04-24 11:22:29.150532\n",
      "Experiment 47 ended at 2020-04-24 11:22:29.358288! Runtime: 925\n",
      "Experiment 82 started at 2020-04-24 11:22:29.492006\n",
      "Experiment 45 ended at 2020-04-24 11:24:17.435510! Runtime: 1007\n",
      "Experiment 84 started at 2020-04-24 11:24:17.574178\n",
      "Experiment 55 ended at 2020-04-24 11:24:32.299406! Runtime: 945\n",
      "Experiment 86 started at 2020-04-24 11:24:32.369720\n",
      "Experiment 41 ended at 2020-04-24 11:24:44.049851! Runtime: 1008\n",
      "Experiment 88 started at 2020-04-24 11:24:44.139168\n",
      "Experiment 59 ended at 2020-04-24 11:25:29.346891! Runtime: 964\n",
      "Experiment 90 started at 2020-04-24 11:25:29.413333\n",
      "Experiment 57 ended at 2020-04-24 11:25:31.339864! Runtime: 919\n",
      "Experiment 92 started at 2020-04-24 11:25:31.445652\n",
      "Experiment 53 ended at 2020-04-24 11:25:48.071615! Runtime: 997\n",
      "Experiment 94 started at 2020-04-24 11:25:48.144355\n",
      "Experiment 51 ended at 2020-04-24 11:25:54.364576! Runtime: 1039\n",
      "Experiment 96 started at 2020-04-24 11:25:54.455315\n",
      "Experiment 43 ended at 2020-04-24 11:25:54.980050! Runtime: 1089\n",
      "Experiment 98 started at 2020-04-24 11:25:55.062845\n",
      "Experiment 65 ended at 2020-04-24 11:27:01.252420! Runtime: 962\n",
      "Experiment 79 ended at 2020-04-24 11:27:01.528380! Runtime: 893\n",
      "Experiment 61 ended at 2020-04-24 11:27:07.135256! Runtime: 1012\n",
      "Experiment 63 ended at 2020-04-24 11:27:09.583478! Runtime: 926\n",
      "Experiment 67 ended at 2020-04-24 11:27:24.765272! Runtime: 953\n",
      "Experiment 75 ended at 2020-04-24 11:28:02.595313! Runtime: 981\n",
      "Experiment 69 ended at 2020-04-24 11:28:13.262787! Runtime: 940\n",
      "Experiment 73 ended at 2020-04-24 11:28:17.203951! Runtime: 970\n",
      "Experiment 77 ended at 2020-04-24 11:28:56.304103! Runtime: 1003\n",
      "Experiment 71 ended at 2020-04-24 11:29:00.248033! Runtime: 959\n",
      "Experiment 82 ended at 2020-04-24 11:35:56.686149! Runtime: 807\n",
      "Experiment 83 started at 2020-04-24 11:35:56.749515\n",
      "Experiment 80 ended at 2020-04-24 11:36:28.361597! Runtime: 839\n",
      "Experiment 81 started at 2020-04-24 11:36:28.434078\n",
      "Experiment 86 ended at 2020-04-24 11:37:14.913751! Runtime: 762\n",
      "Experiment 87 started at 2020-04-24 11:37:15.001173\n",
      "Experiment 88 ended at 2020-04-24 11:38:01.177216! Runtime: 797\n",
      "Experiment 89 started at 2020-04-24 11:38:01.249409\n",
      "Experiment 84 ended at 2020-04-24 11:38:11.752993! Runtime: 834\n",
      "Experiment 85 started at 2020-04-24 11:38:11.819701\n",
      "Experiment 92 ended at 2020-04-24 11:38:40.878920! Runtime: 789\n",
      "Experiment 93 started at 2020-04-24 11:38:40.948147\n",
      "Experiment 90 ended at 2020-04-24 11:38:56.704109! Runtime: 807\n",
      "Experiment 91 started at 2020-04-24 11:38:56.771040\n",
      "Experiment 98 ended at 2020-04-24 11:39:15.498438! Runtime: 800\n",
      "Experiment 99 started at 2020-04-24 11:39:15.563800\n",
      "Experiment 94 ended at 2020-04-24 11:39:15.596550! Runtime: 807\n",
      "Experiment 95 started at 2020-04-24 11:39:15.660370\n",
      "Experiment 96 ended at 2020-04-24 11:39:26.972808! Runtime: 812\n",
      "Experiment 97 started at 2020-04-24 11:39:27.037960\n",
      "Experiment 83 ended at 2020-04-24 11:49:48.735834! Runtime: 831\n",
      "Experiment 81 ended at 2020-04-24 11:50:23.596424! Runtime: 835\n",
      "Experiment 87 ended at 2020-04-24 11:50:54.603933! Runtime: 819\n",
      "Experiment 89 ended at 2020-04-24 11:51:14.789159! Runtime: 793\n",
      "Experiment 85 ended at 2020-04-24 11:51:18.908844! Runtime: 787\n",
      "Experiment 93 ended at 2020-04-24 11:51:55.558604! Runtime: 794\n",
      "Experiment 91 ended at 2020-04-24 11:52:04.138928! Runtime: 787\n",
      "Experiment 99 ended at 2020-04-24 11:52:11.096333! Runtime: 775\n",
      "Experiment 95 ended at 2020-04-24 11:52:31.940171! Runtime: 796\n",
      "Experiment 97 ended at 2020-04-24 11:52:35.975849! Runtime: 788\n"
     ]
    }
   ],
   "source": [
    "! {string_reliable}"
   ]
  },
  {
   "cell_type": "markdown",
   "metadata": {},
   "source": [
    "### Run 100 Oveconfident Experiments for std_ens = 0.001 and std_obs =0.01"
   ]
  },
  {
   "cell_type": "code",
   "execution_count": 9,
   "metadata": {},
   "outputs": [],
   "source": [
    "string_over =\"\".join([\"python CreateExperiments.py\",\n",
    "                        \" --outfolder=\"     , raw_output_path_over,\n",
    "                        \" --Ncores=\"        , str(Ncores),\n",
    "                        \" --Nens=\"          , str(Nens),            \n",
    "                        \" --Nexp=\"          , str(Nexp),\n",
    "                        \" --rho=\"           , str(rho),\n",
    "                        \" --sigma=\"         , str(sigma),\n",
    "                        \" --beta=\"          , str(beta),\n",
    "                        \" --rho_hin=\"       , str(rho_hin),\n",
    "                        \" --sigma_hin=\"     , str(sigma_hin),\n",
    "                        \" --beta_hin=\"      , str(beta_hin),\n",
    "                        \" --std_obs=\"       , str(std_obs),\n",
    "                        \" --std_ens_min=\"   , str(std_ens_min_over),\n",
    "                        \" --std_ens_max=\"   , str(std_ens_max_over),\n",
    "                        \" --Nsample=\"       , str(Nsample_over),\n",
    "                        \" --length_forecast=\", str(length_forecast)])"
   ]
  },
  {
   "cell_type": "code",
   "execution_count": 10,
   "metadata": {
    "collapsed": true,
    "jupyter": {
     "outputs_hidden": true
    }
   },
   "outputs": [
    {
     "name": "stdout",
     "output_type": "stream",
     "text": [
      "New Set of Sample started with the following parameters: \n",
      "---------------------------------------------------------\n",
      "output_folder: /mnt/lustre02/work/uo1075/u301101/SNP_Lorenz_clean/src/scripts/../../data/PerfectModel_Over\n",
      "Nens: 100\n",
      "Nexp: 100\n",
      "length_forecast: 20\n",
      "rho: 28\n",
      "beta: 2.6666666666666665\n",
      "sigma: 10.0\n",
      "rho_hin: 28\n",
      "beta_hin: 2.6666666666666665\n",
      "sigma_hin: 10.0\n",
      "std_obs: 0.01\n",
      "std_ens_min: 0.001\n",
      "std_ens_max: 0.001\n",
      "Nsample: 100\n",
      "Ncores: 20\n",
      "out_timestep: 0.01\n",
      "Pool of Initial conditions loaded !\n",
      "the different samples have the following standard deviations:\n",
      "[0.001 0.001 0.001 0.001 0.001 0.001 0.001 0.001 0.001 0.001 0.001 0.001\n",
      " 0.001 0.001 0.001 0.001 0.001 0.001 0.001 0.001 0.001 0.001 0.001 0.001\n",
      " 0.001 0.001 0.001 0.001 0.001 0.001 0.001 0.001 0.001 0.001 0.001 0.001\n",
      " 0.001 0.001 0.001 0.001 0.001 0.001 0.001 0.001 0.001 0.001 0.001 0.001\n",
      " 0.001 0.001 0.001 0.001 0.001 0.001 0.001 0.001 0.001 0.001 0.001 0.001\n",
      " 0.001 0.001 0.001 0.001 0.001 0.001 0.001 0.001 0.001 0.001 0.001 0.001\n",
      " 0.001 0.001 0.001 0.001 0.001 0.001 0.001 0.001 0.001 0.001 0.001 0.001\n",
      " 0.001 0.001 0.001 0.001 0.001 0.001 0.001 0.001 0.001 0.001 0.001 0.001\n",
      " 0.001 0.001 0.001 0.001]\n",
      "Parameters setup done!\n",
      "Experiment 0 started at 2020-04-24 11:57:33.131060\n",
      "Experiment 2 started at 2020-04-24 11:57:33.141708\n",
      "Experiment 4 started at 2020-04-24 11:57:33.158370\n",
      "Experiment 6 started at 2020-04-24 11:57:33.179088\n",
      "Experiment 8 started at 2020-04-24 11:57:33.194529\n",
      "Experiment 10 started at 2020-04-24 11:57:33.206211\n",
      "Experiment 12 started at 2020-04-24 11:57:33.218283\n",
      "Experiment 14 started at 2020-04-24 11:57:33.229714\n",
      "Experiment 16 started at 2020-04-24 11:57:33.241732\n",
      "Experiment 18 started at 2020-04-24 11:57:33.254964\n",
      "Experiment 20 started at 2020-04-24 11:57:33.271186\n",
      "Experiment 22 started at 2020-04-24 11:57:33.279705\n",
      "Experiment 24 started at 2020-04-24 11:57:33.303071\n",
      "Experiment 26 started at 2020-04-24 11:57:33.325613\n",
      "Experiment 28 started at 2020-04-24 11:57:33.338256\n",
      "Experiment 30 started at 2020-04-24 11:57:33.352738\n",
      "Experiment 32 started at 2020-04-24 11:57:33.370114\n",
      "Experiment 34 started at 2020-04-24 11:57:33.380538\n",
      "Experiment 36 started at 2020-04-24 11:57:33.395931\n",
      "Experiment 38 started at 2020-04-24 11:57:33.410511\n",
      "Experiment 0 ended at 2020-04-24 12:09:58.794863! Runtime: 745\n",
      "Experiment 1 started at 2020-04-24 12:09:58.835681\n",
      "Experiment 34 ended at 2020-04-24 12:10:05.024831! Runtime: 751\n",
      "Experiment 35 started at 2020-04-24 12:10:05.067331\n",
      "Experiment 36 ended at 2020-04-24 12:10:19.937263! Runtime: 766\n",
      "Experiment 37 started at 2020-04-24 12:10:19.978153\n",
      "Experiment 8 ended at 2020-04-24 12:10:21.630025! Runtime: 768\n",
      "Experiment 9 started at 2020-04-24 12:10:21.660534\n",
      "Experiment 38 ended at 2020-04-24 12:10:30.521146! Runtime: 777\n",
      "Experiment 39 started at 2020-04-24 12:10:30.558144\n",
      "Experiment 26 ended at 2020-04-24 12:10:37.992701! Runtime: 784\n",
      "Experiment 27 started at 2020-04-24 12:10:38.033903\n",
      "Experiment 14 ended at 2020-04-24 12:11:21.756510! Runtime: 828\n",
      "Experiment 15 started at 2020-04-24 12:11:21.800456\n",
      "Experiment 24 ended at 2020-04-24 12:11:22.076128! Runtime: 828\n",
      "Experiment 25 started at 2020-04-24 12:11:22.120038\n",
      "Experiment 18 ended at 2020-04-24 12:11:25.667938! Runtime: 832\n",
      "Experiment 19 started at 2020-04-24 12:11:25.701277\n",
      "Experiment 20 ended at 2020-04-24 12:11:52.085793! Runtime: 858\n",
      "Experiment 21 started at 2020-04-24 12:11:52.132829\n",
      "Experiment 22 ended at 2020-04-24 12:12:09.177568! Runtime: 875\n",
      "Experiment 23 started at 2020-04-24 12:12:09.213007\n",
      "Experiment 32 ended at 2020-04-24 12:12:20.524822! Runtime: 887\n",
      "Experiment 33 started at 2020-04-24 12:12:20.574595\n",
      "Experiment 6 ended at 2020-04-24 12:12:26.221580! Runtime: 893\n",
      "Experiment 7 started at 2020-04-24 12:12:26.258506\n",
      "Experiment 30 ended at 2020-04-24 12:12:28.612571! Runtime: 895\n",
      "Experiment 31 started at 2020-04-24 12:12:28.660158\n",
      "Experiment 28 ended at 2020-04-24 12:12:34.435074! Runtime: 901\n",
      "Experiment 29 started at 2020-04-24 12:12:34.483838\n",
      "Experiment 12 ended at 2020-04-24 12:12:35.022609! Runtime: 901\n",
      "Experiment 13 started at 2020-04-24 12:12:35.069558\n",
      "Experiment 10 ended at 2020-04-24 12:13:06.699609! Runtime: 933\n",
      "Experiment 11 started at 2020-04-24 12:13:06.744830\n",
      "Experiment 2 ended at 2020-04-24 12:13:22.647345! Runtime: 949\n",
      "Experiment 3 started at 2020-04-24 12:13:22.694410\n",
      "Experiment 16 ended at 2020-04-24 12:13:58.342054! Runtime: 985\n",
      "Experiment 17 started at 2020-04-24 12:13:58.390297\n",
      "Experiment 4 ended at 2020-04-24 12:15:13.312685! Runtime: 1060\n",
      "Experiment 5 started at 2020-04-24 12:15:13.341886\n",
      "Experiment 35 ended at 2020-04-24 12:23:36.658397! Runtime: 811\n",
      "Experiment 40 started at 2020-04-24 12:23:36.850208\n",
      "Experiment 1 ended at 2020-04-24 12:23:40.203672! Runtime: 821\n",
      "Experiment 42 started at 2020-04-24 12:23:40.276027\n",
      "Experiment 27 ended at 2020-04-24 12:23:49.837851! Runtime: 791\n",
      "Experiment 44 started at 2020-04-24 12:23:49.916474\n",
      "Experiment 19 ended at 2020-04-24 12:24:08.888417! Runtime: 763\n",
      "Experiment 46 started at 2020-04-24 12:24:08.988230\n",
      "Experiment 25 ended at 2020-04-24 12:25:25.063987! Runtime: 842\n",
      "Experiment 48 started at 2020-04-24 12:25:25.182332\n",
      "Experiment 37 ended at 2020-04-24 12:25:28.180586! Runtime: 908\n",
      "Experiment 50 started at 2020-04-24 12:25:28.259902\n",
      "Experiment 15 ended at 2020-04-24 12:25:38.007633! Runtime: 856\n",
      "Experiment 52 started at 2020-04-24 12:25:38.086119\n",
      "Experiment 9 ended at 2020-04-24 12:25:42.278582! Runtime: 920\n",
      "Experiment 54 started at 2020-04-24 12:25:42.385824\n",
      "Experiment 39 ended at 2020-04-24 12:25:57.903628! Runtime: 927\n",
      "Experiment 56 started at 2020-04-24 12:25:58.011694\n",
      "Experiment 33 ended at 2020-04-24 12:26:17.714050! Runtime: 837\n",
      "Experiment 58 started at 2020-04-24 12:26:17.792592\n",
      "Experiment 13 ended at 2020-04-24 12:26:26.498042! Runtime: 831\n",
      "Experiment 60 started at 2020-04-24 12:26:26.604877\n",
      "Experiment 21 ended at 2020-04-24 12:26:34.298408! Runtime: 882\n",
      "Experiment 62 started at 2020-04-24 12:26:34.371564\n",
      "Experiment 23 ended at 2020-04-24 12:27:15.863750! Runtime: 906\n",
      "Experiment 64 started at 2020-04-24 12:27:15.942373\n",
      "Experiment 31 ended at 2020-04-24 12:27:18.307214! Runtime: 889\n",
      "Experiment 66 started at 2020-04-24 12:27:18.387926\n",
      "Experiment 3 ended at 2020-04-24 12:28:02.798388! Runtime: 880\n",
      "Experiment 68 started at 2020-04-24 12:28:02.877341\n",
      "Experiment 7 ended at 2020-04-24 12:28:30.316657! Runtime: 964\n",
      "Experiment 70 started at 2020-04-24 12:28:30.391552\n",
      "Experiment 29 ended at 2020-04-24 12:28:55.041512! Runtime: 980\n",
      "Experiment 72 started at 2020-04-24 12:28:55.111660\n",
      "Experiment 11 ended at 2020-04-24 12:29:16.054042! Runtime: 969\n",
      "Experiment 74 started at 2020-04-24 12:29:16.154104\n",
      "Experiment 5 ended at 2020-04-24 12:30:05.204753! Runtime: 891\n",
      "Experiment 76 started at 2020-04-24 12:30:05.298409\n",
      "Experiment 17 ended at 2020-04-24 12:30:24.863603! Runtime: 986\n",
      "Experiment 78 started at 2020-04-24 12:30:24.964952\n",
      "Experiment 44 ended at 2020-04-24 12:37:43.840923! Runtime: 833\n",
      "Experiment 45 started at 2020-04-24 12:37:43.936814\n",
      "Experiment 40 ended at 2020-04-24 12:37:59.923543! Runtime: 863\n",
      "Experiment 41 started at 2020-04-24 12:38:00.022398\n",
      "Experiment 46 ended at 2020-04-24 12:38:21.661428! Runtime: 852\n",
      "Experiment 47 started at 2020-04-24 12:38:21.754128\n",
      "Experiment 42 ended at 2020-04-24 12:38:26.068149! Runtime: 885\n",
      "Experiment 43 started at 2020-04-24 12:38:26.135610\n",
      "Experiment 50 ended at 2020-04-24 12:39:21.815600! Runtime: 833\n",
      "Experiment 51 started at 2020-04-24 12:39:21.868213\n",
      "Experiment 48 ended at 2020-04-24 12:39:41.939376! Runtime: 856\n",
      "Experiment 49 started at 2020-04-24 12:39:42.033655\n",
      "Experiment 62 ended at 2020-04-24 12:39:56.349848! Runtime: 801\n",
      "Experiment 63 started at 2020-04-24 12:39:56.415632\n",
      "Experiment 52 ended at 2020-04-24 12:40:13.072090! Runtime: 874\n",
      "Experiment 53 started at 2020-04-24 12:40:13.168968\n",
      "Experiment 56 ended at 2020-04-24 12:40:38.701265! Runtime: 880\n",
      "Experiment 57 started at 2020-04-24 12:40:38.764100\n",
      "Experiment 60 ended at 2020-04-24 12:40:45.655800! Runtime: 859\n",
      "Experiment 61 started at 2020-04-24 12:40:45.730240\n",
      "Experiment 58 ended at 2020-04-24 12:41:27.595247! Runtime: 909\n",
      "Experiment 59 started at 2020-04-24 12:41:27.695327\n",
      "Experiment 54 ended at 2020-04-24 12:41:32.193045! Runtime: 949\n",
      "Experiment 55 started at 2020-04-24 12:41:32.281388\n",
      "Experiment 64 ended at 2020-04-24 12:41:46.851305! Runtime: 870\n",
      "Experiment 65 started at 2020-04-24 12:41:46.928502\n",
      "Experiment 72 ended at 2020-04-24 12:42:30.048538! Runtime: 814\n",
      "Experiment 73 started at 2020-04-24 12:42:30.129131\n",
      "Experiment 66 ended at 2020-04-24 12:42:36.712926! Runtime: 918\n",
      "Experiment 67 started at 2020-04-24 12:42:36.794609\n",
      "Experiment 68 ended at 2020-04-24 12:42:41.309924! Runtime: 878\n",
      "Experiment 69 started at 2020-04-24 12:42:41.380592\n",
      "Experiment 70 ended at 2020-04-24 12:42:55.686805! Runtime: 865\n",
      "Experiment 71 started at 2020-04-24 12:42:55.773716\n",
      "Experiment 76 ended at 2020-04-24 12:43:25.568906! Runtime: 800\n",
      "Experiment 77 started at 2020-04-24 12:43:25.629061\n",
      "Experiment 74 ended at 2020-04-24 12:43:45.786711! Runtime: 869\n",
      "Experiment 75 started at 2020-04-24 12:43:45.873628\n",
      "Experiment 78 ended at 2020-04-24 12:44:22.351840! Runtime: 837\n",
      "Experiment 79 started at 2020-04-24 12:44:22.415081\n",
      "Experiment 45 ended at 2020-04-24 12:51:31.406693! Runtime: 827\n",
      "Experiment 80 started at 2020-04-24 12:51:31.604297\n",
      "Experiment 43 ended at 2020-04-24 12:51:40.575660! Runtime: 794\n",
      "Experiment 82 started at 2020-04-24 12:51:40.651682\n",
      "Experiment 41 ended at 2020-04-24 12:52:25.670436! Runtime: 865\n",
      "Experiment 84 started at 2020-04-24 12:52:25.772548\n",
      "Experiment 63 ended at 2020-04-24 12:53:17.627235! Runtime: 801\n",
      "Experiment 86 started at 2020-04-24 12:53:17.704317\n",
      "Experiment 47 ended at 2020-04-24 12:53:19.024575! Runtime: 897\n",
      "Experiment 88 started at 2020-04-24 12:53:19.107413\n",
      "Experiment 51 ended at 2020-04-24 12:53:44.643256! Runtime: 862\n",
      "Experiment 90 started at 2020-04-24 12:53:44.743239\n",
      "Experiment 61 ended at 2020-04-24 12:53:56.108534! Runtime: 790\n",
      "Experiment 92 started at 2020-04-24 12:53:56.180424\n",
      "Experiment 57 ended at 2020-04-24 12:54:13.508875! Runtime: 814\n",
      "Experiment 94 started at 2020-04-24 12:54:13.594748\n",
      "Experiment 49 ended at 2020-04-24 12:54:16.482291! Runtime: 874\n",
      "Experiment 96 started at 2020-04-24 12:54:16.573930\n",
      "Experiment 53 ended at 2020-04-24 12:54:43.093511! Runtime: 869\n",
      "Experiment 98 started at 2020-04-24 12:54:43.162757\n",
      "Experiment 59 ended at 2020-04-24 12:54:59.951161! Runtime: 812\n",
      "Experiment 55 ended at 2020-04-24 12:55:20.346591! Runtime: 828\n",
      "Experiment 65 ended at 2020-04-24 12:55:55.155409! Runtime: 848\n",
      "Experiment 71 ended at 2020-04-24 12:56:02.261054! Runtime: 786\n",
      "Experiment 69 ended at 2020-04-24 12:56:48.757507! Runtime: 847\n",
      "Experiment 67 ended at 2020-04-24 12:56:52.322666! Runtime: 855\n",
      "Experiment 73 ended at 2020-04-24 12:56:58.223344! Runtime: 868\n",
      "Experiment 79 ended at 2020-04-24 12:57:40.374399! Runtime: 797\n",
      "Experiment 77 ended at 2020-04-24 12:58:14.369751! Runtime: 888\n",
      "Experiment 75 ended at 2020-04-24 12:58:40.190633! Runtime: 894\n",
      "Experiment 82 ended at 2020-04-24 13:04:09.641155! Runtime: 748\n",
      "Experiment 83 started at 2020-04-24 13:04:09.725489\n",
      "Experiment 80 ended at 2020-04-24 13:04:25.165699! Runtime: 773\n",
      "Experiment 81 started at 2020-04-24 13:04:25.234143\n",
      "Experiment 84 ended at 2020-04-24 13:04:53.990751! Runtime: 748\n",
      "Experiment 85 started at 2020-04-24 13:04:54.048252\n",
      "Experiment 86 ended at 2020-04-24 13:05:32.045487! Runtime: 734\n",
      "Experiment 87 started at 2020-04-24 13:05:32.118334\n",
      "Experiment 88 ended at 2020-04-24 13:05:44.146980! Runtime: 745\n",
      "Experiment 89 started at 2020-04-24 13:05:44.245378\n",
      "Experiment 90 ended at 2020-04-24 13:06:03.119232! Runtime: 738\n",
      "Experiment 91 started at 2020-04-24 13:06:03.188507\n",
      "Experiment 96 ended at 2020-04-24 13:06:03.673291! Runtime: 707\n",
      "Experiment 92 ended at 2020-04-24 13:06:03.707381! Runtime: 727\n",
      "Experiment 97 started at 2020-04-24 13:06:03.739954\n",
      "Experiment 93 started at 2020-04-24 13:06:03.779515\n",
      "Experiment 94 ended at 2020-04-24 13:06:04.659591! Runtime: 711\n",
      "Experiment 95 started at 2020-04-24 13:06:04.730226\n",
      "Experiment 98 ended at 2020-04-24 13:06:39.905683! Runtime: 716\n",
      "Experiment 99 started at 2020-04-24 13:06:39.968426\n",
      "Experiment 81 ended at 2020-04-24 13:17:53.449108! Runtime: 808\n",
      "Experiment 83 ended at 2020-04-24 13:17:54.484403! Runtime: 824\n",
      "Experiment 85 ended at 2020-04-24 13:18:15.116295! Runtime: 801\n",
      "Experiment 87 ended at 2020-04-24 13:18:55.532615! Runtime: 803\n",
      "Experiment 89 ended at 2020-04-24 13:19:06.313170! Runtime: 802\n",
      "Experiment 93 ended at 2020-04-24 13:19:16.570282! Runtime: 792\n",
      "Experiment 91 ended at 2020-04-24 13:19:18.284562! Runtime: 795\n",
      "Experiment 95 ended at 2020-04-24 13:19:26.132837! Runtime: 801\n",
      "Experiment 97 ended at 2020-04-24 13:19:30.815603! Runtime: 807\n",
      "Experiment 99 ended at 2020-04-24 13:19:58.812513! Runtime: 798\n"
     ]
    }
   ],
   "source": [
    "! {string_over}"
   ]
  },
  {
   "cell_type": "markdown",
   "metadata": {},
   "source": [
    "## Run 100 Underconfident Experiments for std_ens= 0.1 and std_obs=0.01"
   ]
  },
  {
   "cell_type": "code",
   "execution_count": 11,
   "metadata": {},
   "outputs": [
    {
     "data": {
      "text/plain": [
       "'python CreateExperiments.py --outfolder=/mnt/lustre02/work/uo1075/u301101/SNP_Lorenz_clean/src/scripts/../../data/PerfectModel_Under --Ncores=20 --Nens=100 --Nexp=100 --rho=28 --sigma=10.0 --beta=2.6666666666666665 --rho_hin=28 --sigma_hin=10.0 --beta_hin=2.6666666666666665 --std_obs=0.01 --std_ens_min=0.1 --std_ens_max=0.1 --Nsample=100 --length_forecast=20'"
      ]
     },
     "execution_count": 11,
     "metadata": {},
     "output_type": "execute_result"
    }
   ],
   "source": [
    "string_under =\"\".join([\"python CreateExperiments.py\",\n",
    "                        \" --outfolder=\"     , raw_output_path_under,\n",
    "                        \" --Ncores=\"        , str(Ncores),\n",
    "                        \" --Nens=\"          , str(Nens),            \n",
    "                        \" --Nexp=\"          , str(Nexp),\n",
    "                        \" --rho=\"           , str(rho),\n",
    "                        \" --sigma=\"         , str(sigma),\n",
    "                        \" --beta=\"          , str(beta),\n",
    "                        \" --rho_hin=\"       , str(rho_hin),\n",
    "                        \" --sigma_hin=\"     , str(sigma_hin),\n",
    "                        \" --beta_hin=\"      , str(beta_hin),\n",
    "                        \" --std_obs=\"       , str(std_obs),\n",
    "                        \" --std_ens_min=\"   , str(std_ens_min_under),\n",
    "                        \" --std_ens_max=\"   , str(std_ens_max_under),\n",
    "                        \" --Nsample=\"       , str(Nsample_under),\n",
    "                        \" --length_forecast=\", str(length_forecast)])\n",
    "string_under"
   ]
  },
  {
   "cell_type": "code",
   "execution_count": 12,
   "metadata": {
    "collapsed": true,
    "jupyter": {
     "outputs_hidden": true
    }
   },
   "outputs": [
    {
     "name": "stdout",
     "output_type": "stream",
     "text": [
      "New Set of Sample started with the following parameters: \n",
      "---------------------------------------------------------\n",
      "output_folder: /mnt/lustre02/work/uo1075/u301101/SNP_Lorenz_clean/src/scripts/../../data/PerfectModel_Under\n",
      "Nens: 100\n",
      "Nexp: 100\n",
      "length_forecast: 20\n",
      "rho: 28\n",
      "beta: 2.6666666666666665\n",
      "sigma: 10.0\n",
      "rho_hin: 28\n",
      "beta_hin: 2.6666666666666665\n",
      "sigma_hin: 10.0\n",
      "std_obs: 0.01\n",
      "std_ens_min: 0.1\n",
      "std_ens_max: 0.1\n",
      "Nsample: 100\n",
      "Ncores: 20\n",
      "out_timestep: 0.01\n",
      "Pool of Initial conditions loaded !\n",
      "the different samples have the following standard deviations:\n",
      "[0.1 0.1 0.1 0.1 0.1 0.1 0.1 0.1 0.1 0.1 0.1 0.1 0.1 0.1 0.1 0.1 0.1 0.1\n",
      " 0.1 0.1 0.1 0.1 0.1 0.1 0.1 0.1 0.1 0.1 0.1 0.1 0.1 0.1 0.1 0.1 0.1 0.1\n",
      " 0.1 0.1 0.1 0.1 0.1 0.1 0.1 0.1 0.1 0.1 0.1 0.1 0.1 0.1 0.1 0.1 0.1 0.1\n",
      " 0.1 0.1 0.1 0.1 0.1 0.1 0.1 0.1 0.1 0.1 0.1 0.1 0.1 0.1 0.1 0.1 0.1 0.1\n",
      " 0.1 0.1 0.1 0.1 0.1 0.1 0.1 0.1 0.1 0.1 0.1 0.1 0.1 0.1 0.1 0.1 0.1 0.1\n",
      " 0.1 0.1 0.1 0.1 0.1 0.1 0.1 0.1 0.1 0.1]\n",
      "Parameters setup done!\n",
      "Experiment 0 started at 2020-04-24 13:28:57.422964\n",
      "Experiment 2 started at 2020-04-24 13:28:57.435780\n",
      "Experiment 4 started at 2020-04-24 13:28:57.448026\n",
      "Experiment 6 started at 2020-04-24 13:28:57.460132\n",
      "Experiment 8 started at 2020-04-24 13:28:57.473259\n",
      "Experiment 10 started at 2020-04-24 13:28:57.487416\n",
      "Experiment 12 started at 2020-04-24 13:28:57.498777\n",
      "Experiment 14 started at 2020-04-24 13:28:57.510999\n",
      "Experiment 16 started at 2020-04-24 13:28:57.523371\n",
      "Experiment 18 started at 2020-04-24 13:28:57.537982\n",
      "Experiment 20 started at 2020-04-24 13:28:57.550846\n",
      "Experiment 22 started at 2020-04-24 13:28:57.568803\n",
      "Experiment 24 started at 2020-04-24 13:28:57.580299\n",
      "Experiment 26 started at 2020-04-24 13:28:57.596259\n",
      "Experiment 28 started at 2020-04-24 13:28:57.604593\n",
      "Experiment 30 started at 2020-04-24 13:28:57.619940\n",
      "Experiment 32 started at 2020-04-24 13:28:57.630619\n",
      "Experiment 34 started at 2020-04-24 13:28:57.641520\n",
      "Experiment 36 started at 2020-04-24 13:28:57.654515\n",
      "Experiment 38 started at 2020-04-24 13:28:57.670673\n",
      "Experiment 0 ended at 2020-04-24 13:43:27.945831! Runtime: 870\n",
      "Experiment 1 started at 2020-04-24 13:43:28.063567\n",
      "Experiment 26 ended at 2020-04-24 13:44:11.109556! Runtime: 913\n",
      "Experiment 27 started at 2020-04-24 13:44:11.164379\n",
      "Experiment 8 ended at 2020-04-24 13:44:40.568193! Runtime: 943\n",
      "Experiment 9 started at 2020-04-24 13:44:40.599573\n",
      "Experiment 10 ended at 2020-04-24 13:44:45.368782! Runtime: 947\n",
      "Experiment 11 started at 2020-04-24 13:44:45.400279\n",
      "Experiment 38 ended at 2020-04-24 13:44:50.966843! Runtime: 953\n",
      "Experiment 39 started at 2020-04-24 13:44:51.001096\n",
      "Experiment 20 ended at 2020-04-24 13:45:06.199537! Runtime: 968\n",
      "Experiment 21 started at 2020-04-24 13:45:06.236843\n",
      "Experiment 4 ended at 2020-04-24 13:45:14.205405! Runtime: 976\n",
      "Experiment 5 started at 2020-04-24 13:45:14.256473\n",
      "Experiment 36 ended at 2020-04-24 13:45:23.876061! Runtime: 986\n",
      "Experiment 37 started at 2020-04-24 13:45:23.900465\n",
      "Experiment 34 ended at 2020-04-24 13:45:25.102072! Runtime: 987\n",
      "Experiment 35 started at 2020-04-24 13:45:25.128140\n",
      "Experiment 6 ended at 2020-04-24 13:45:25.190501! Runtime: 987\n",
      "Experiment 7 started at 2020-04-24 13:45:25.219072\n",
      "Experiment 2 ended at 2020-04-24 13:45:29.044077! Runtime: 991\n",
      "Experiment 3 started at 2020-04-24 13:45:29.067763\n",
      "Experiment 14 ended at 2020-04-24 13:45:30.233643! Runtime: 992\n",
      "Experiment 15 started at 2020-04-24 13:45:30.264651\n",
      "Experiment 12 ended at 2020-04-24 13:45:51.902114! Runtime: 1014\n",
      "Experiment 13 started at 2020-04-24 13:45:51.935648\n",
      "Experiment 18 ended at 2020-04-24 13:45:54.084986! Runtime: 1016\n",
      "Experiment 19 started at 2020-04-24 13:45:54.126543\n",
      "Experiment 22 ended at 2020-04-24 13:45:55.200378! Runtime: 1017\n",
      "Experiment 23 started at 2020-04-24 13:45:55.230266\n",
      "Experiment 16 ended at 2020-04-24 13:46:02.257689! Runtime: 1024\n",
      "Experiment 17 started at 2020-04-24 13:46:02.290530\n",
      "Experiment 30 ended at 2020-04-24 13:46:06.498085! Runtime: 1028\n",
      "Experiment 31 started at 2020-04-24 13:46:06.529510\n",
      "Experiment 32 ended at 2020-04-24 13:46:35.993642! Runtime: 1058\n",
      "Experiment 33 started at 2020-04-24 13:46:36.025958\n",
      "Experiment 24 ended at 2020-04-24 13:46:50.590264! Runtime: 1073\n",
      "Experiment 25 started at 2020-04-24 13:46:50.636634\n",
      "Experiment 28 ended at 2020-04-24 13:46:55.730248! Runtime: 1078\n",
      "Experiment 29 started at 2020-04-24 13:46:55.770478\n",
      "Experiment 1 ended at 2020-04-24 13:59:16.696672! Runtime: 948\n",
      "Experiment 40 started at 2020-04-24 13:59:16.871855\n",
      "Experiment 5 ended at 2020-04-24 13:59:27.960458! Runtime: 853\n",
      "Experiment 42 started at 2020-04-24 13:59:28.055137\n",
      "Experiment 21 ended at 2020-04-24 13:59:29.542892! Runtime: 863\n",
      "Experiment 44 started at 2020-04-24 13:59:29.627646\n",
      "Experiment 27 ended at 2020-04-24 13:59:33.553065! Runtime: 922\n",
      "Experiment 46 started at 2020-04-24 13:59:33.625755\n",
      "Experiment 9 ended at 2020-04-24 13:59:42.667734! Runtime: 902\n",
      "Experiment 48 started at 2020-04-24 13:59:42.767325\n",
      "Experiment 7 ended at 2020-04-24 13:59:45.848428! Runtime: 860\n",
      "Experiment 50 started at 2020-04-24 13:59:45.924969\n",
      "Experiment 37 ended at 2020-04-24 14:00:00.089799! Runtime: 876\n",
      "Experiment 52 started at 2020-04-24 14:00:00.171426\n",
      "Experiment 39 ended at 2020-04-24 14:00:06.002417! Runtime: 915\n",
      "Experiment 54 started at 2020-04-24 14:00:06.090153\n",
      "Experiment 23 ended at 2020-04-24 14:00:11.478869! Runtime: 856\n",
      "Experiment 56 started at 2020-04-24 14:00:11.575584\n",
      "Experiment 15 ended at 2020-04-24 14:00:14.524896! Runtime: 884\n",
      "Experiment 58 started at 2020-04-24 14:00:14.603054\n",
      "Experiment 35 ended at 2020-04-24 14:00:27.329912! Runtime: 902\n",
      "Experiment 60 started at 2020-04-24 14:00:27.411600\n",
      "Experiment 19 ended at 2020-04-24 14:00:28.140091! Runtime: 874\n",
      "Experiment 62 started at 2020-04-24 14:00:28.241818\n",
      "Experiment 11 ended at 2020-04-24 14:00:30.306617! Runtime: 944\n",
      "Experiment 64 started at 2020-04-24 14:00:30.400408\n",
      "Experiment 3 ended at 2020-04-24 14:00:31.667550! Runtime: 902\n",
      "Experiment 66 started at 2020-04-24 14:00:31.739777\n",
      "Experiment 17 ended at 2020-04-24 14:00:33.817862! Runtime: 871\n",
      "Experiment 68 started at 2020-04-24 14:00:33.892787\n",
      "Experiment 25 ended at 2020-04-24 14:01:12.009405! Runtime: 861\n",
      "Experiment 70 started at 2020-04-24 14:01:12.088389\n",
      "Experiment 31 ended at 2020-04-24 14:01:30.558255! Runtime: 924\n",
      "Experiment 72 started at 2020-04-24 14:01:30.646900\n",
      "Experiment 13 ended at 2020-04-24 14:01:56.134602! Runtime: 964\n",
      "Experiment 74 started at 2020-04-24 14:01:56.242732\n",
      "Experiment 33 ended at 2020-04-24 14:02:16.261508! Runtime: 940\n",
      "Experiment 76 started at 2020-04-24 14:02:16.348342\n",
      "Experiment 29 ended at 2020-04-24 14:03:22.141122! Runtime: 986\n",
      "Experiment 78 started at 2020-04-24 14:03:22.215064\n",
      "Experiment 44 ended at 2020-04-24 14:15:08.951498! Runtime: 939\n",
      "Experiment 45 started at 2020-04-24 14:15:09.058418\n",
      "Experiment 50 ended at 2020-04-24 14:15:19.465865! Runtime: 933\n",
      "Experiment 51 started at 2020-04-24 14:15:19.563100\n",
      "Experiment 42 ended at 2020-04-24 14:15:28.860363! Runtime: 960\n",
      "Experiment 43 started at 2020-04-24 14:15:28.941632\n",
      "Experiment 46 ended at 2020-04-24 14:15:29.010752! Runtime: 955\n",
      "Experiment 47 started at 2020-04-24 14:15:29.095115\n",
      "Experiment 62 ended at 2020-04-24 14:15:38.818349! Runtime: 910\n",
      "Experiment 63 started at 2020-04-24 14:15:38.890870\n",
      "Experiment 48 ended at 2020-04-24 14:15:40.617005! Runtime: 957\n",
      "Experiment 49 started at 2020-04-24 14:15:40.686467\n",
      "Experiment 40 ended at 2020-04-24 14:15:44.105696! Runtime: 987\n",
      "Experiment 41 started at 2020-04-24 14:15:44.197126\n",
      "Experiment 54 ended at 2020-04-24 14:15:48.190037! Runtime: 942\n",
      "Experiment 55 started at 2020-04-24 14:15:48.301943\n",
      "Experiment 66 ended at 2020-04-24 14:16:10.434335! Runtime: 938\n",
      "Experiment 67 started at 2020-04-24 14:16:10.531877\n",
      "Experiment 60 ended at 2020-04-24 14:16:16.489502! Runtime: 949\n",
      "Experiment 61 started at 2020-04-24 14:16:16.571828\n",
      "Experiment 58 ended at 2020-04-24 14:16:25.672766! Runtime: 971\n",
      "Experiment 59 started at 2020-04-24 14:16:25.746204\n",
      "Experiment 52 ended at 2020-04-24 14:17:01.712209! Runtime: 1021\n",
      "Experiment 53 started at 2020-04-24 14:17:01.809006\n",
      "Experiment 70 ended at 2020-04-24 14:17:05.718572! Runtime: 953\n",
      "Experiment 71 started at 2020-04-24 14:17:05.807037\n",
      "Experiment 68 ended at 2020-04-24 14:17:18.361563! Runtime: 1004\n",
      "Experiment 69 started at 2020-04-24 14:17:18.449675\n",
      "Experiment 72 ended at 2020-04-24 14:17:30.350577! Runtime: 959\n",
      "Experiment 73 started at 2020-04-24 14:17:30.451756\n",
      "Experiment 56 ended at 2020-04-24 14:17:51.536214! Runtime: 1059\n",
      "Experiment 57 started at 2020-04-24 14:17:51.604280\n",
      "Experiment 64 ended at 2020-04-24 14:18:00.087924! Runtime: 1049\n",
      "Experiment 65 started at 2020-04-24 14:18:00.167615\n",
      "Experiment 76 ended at 2020-04-24 14:18:18.103032! Runtime: 961\n",
      "Experiment 77 started at 2020-04-24 14:18:18.173680\n",
      "Experiment 74 ended at 2020-04-24 14:18:58.228205! Runtime: 1021\n",
      "Experiment 75 started at 2020-04-24 14:18:58.284139\n",
      "Experiment 78 ended at 2020-04-24 14:19:31.128797! Runtime: 968\n",
      "Experiment 79 started at 2020-04-24 14:19:31.223708\n",
      "Experiment 47 ended at 2020-04-24 14:28:48.293718! Runtime: 799\n",
      "Experiment 80 started at 2020-04-24 14:28:48.441590\n",
      "Experiment 45 ended at 2020-04-24 14:28:55.518676! Runtime: 826\n",
      "Experiment 82 started at 2020-04-24 14:28:55.693983\n",
      "Experiment 41 ended at 2020-04-24 14:29:52.657241! Runtime: 848\n",
      "Experiment 84 started at 2020-04-24 14:29:52.752886\n",
      "Experiment 59 ended at 2020-04-24 14:29:56.942884! Runtime: 811\n",
      "Experiment 86 started at 2020-04-24 14:29:57.047515\n",
      "Experiment 61 ended at 2020-04-24 14:30:00.264408! Runtime: 823\n",
      "Experiment 88 started at 2020-04-24 14:30:00.340735\n",
      "Experiment 43 ended at 2020-04-24 14:30:04.869721! Runtime: 875\n",
      "Experiment 90 started at 2020-04-24 14:30:04.969210\n",
      "Experiment 63 ended at 2020-04-24 14:30:12.561330! Runtime: 873\n",
      "Experiment 92 started at 2020-04-24 14:30:12.659184\n",
      "Experiment 51 ended at 2020-04-24 14:30:20.167029! Runtime: 900\n",
      "Experiment 94 started at 2020-04-24 14:30:20.261035\n",
      "Experiment 67 ended at 2020-04-24 14:30:26.776038! Runtime: 856\n",
      "Experiment 96 started at 2020-04-24 14:30:26.876505\n",
      "Experiment 55 ended at 2020-04-24 14:30:31.822475! Runtime: 883\n",
      "Experiment 98 started at 2020-04-24 14:30:31.923510\n",
      "Experiment 49 ended at 2020-04-24 14:31:03.010864! Runtime: 922\n",
      "Experiment 53 ended at 2020-04-24 14:31:06.234862! Runtime: 844\n",
      "Experiment 65 ended at 2020-04-24 14:31:34.099428! Runtime: 813\n",
      "Experiment 69 ended at 2020-04-24 14:31:53.592285! Runtime: 875\n",
      "Experiment 73 ended at 2020-04-24 14:32:14.639650! Runtime: 884\n",
      "Experiment 75 ended at 2020-04-24 14:32:24.327860! Runtime: 806\n",
      "Experiment 71 ended at 2020-04-24 14:32:25.041737! Runtime: 919\n",
      "Experiment 77 ended at 2020-04-24 14:32:41.466974! Runtime: 863\n",
      "Experiment 57 ended at 2020-04-24 14:32:50.328937! Runtime: 898\n",
      "Experiment 79 ended at 2020-04-24 14:33:31.078306! Runtime: 839\n",
      "Experiment 80 ended at 2020-04-24 14:41:04.240170! Runtime: 735\n",
      "Experiment 82 ended at 2020-04-24 14:41:04.258369! Runtime: 728\n",
      "Experiment 81 started at 2020-04-24 14:41:04.326134\n",
      "Experiment 83 started at 2020-04-24 14:41:04.329041\n",
      "Experiment 84 ended at 2020-04-24 14:42:00.614559! Runtime: 727\n",
      "Experiment 85 started at 2020-04-24 14:42:00.682527\n",
      "Experiment 94 ended at 2020-04-24 14:42:11.951351! Runtime: 711\n",
      "Experiment 95 started at 2020-04-24 14:42:12.018788\n",
      "Experiment 86 ended at 2020-04-24 14:42:12.235740! Runtime: 735\n",
      "Experiment 87 started at 2020-04-24 14:42:12.298760\n",
      "Experiment 88 ended at 2020-04-24 14:42:16.952388! Runtime: 736\n",
      "Experiment 89 started at 2020-04-24 14:42:17.024856\n",
      "Experiment 92 ended at 2020-04-24 14:42:18.074073! Runtime: 725\n",
      "Experiment 93 started at 2020-04-24 14:42:18.155102\n",
      "Experiment 90 ended at 2020-04-24 14:42:23.417375! Runtime: 738\n",
      "Experiment 91 started at 2020-04-24 14:42:23.487081\n",
      "Experiment 98 ended at 2020-04-24 14:42:33.001205! Runtime: 721\n",
      "Experiment 99 started at 2020-04-24 14:42:33.070426\n",
      "Experiment 96 ended at 2020-04-24 14:42:51.385234! Runtime: 744\n",
      "Experiment 97 started at 2020-04-24 14:42:51.454855\n",
      "Experiment 83 ended at 2020-04-24 14:52:33.836670! Runtime: 689\n",
      "Experiment 81 ended at 2020-04-24 14:52:34.458888! Runtime: 690\n",
      "Experiment 87 ended at 2020-04-24 14:53:30.201808! Runtime: 677\n",
      "Experiment 93 ended at 2020-04-24 14:53:34.370214! Runtime: 676\n",
      "Experiment 89 ended at 2020-04-24 14:53:35.826448! Runtime: 678\n",
      "Experiment 85 ended at 2020-04-24 14:53:35.942833! Runtime: 695\n",
      "Experiment 95 ended at 2020-04-24 14:53:36.636395! Runtime: 684\n",
      "Experiment 91 ended at 2020-04-24 14:53:41.722298! Runtime: 678\n",
      "Experiment 99 ended at 2020-04-24 14:53:56.518340! Runtime: 683\n",
      "Experiment 97 ended at 2020-04-24 14:54:13.809773! Runtime: 682\n"
     ]
    }
   ],
   "source": [
    "! {string_under}"
   ]
  },
  {
   "cell_type": "markdown",
   "metadata": {},
   "source": [
    "## Run postprocessing"
   ]
  },
  {
   "cell_type": "markdown",
   "metadata": {},
   "source": [
    "### Create The Folders where experiments are saved after postprocessing"
   ]
  },
  {
   "cell_type": "code",
   "execution_count": 11,
   "metadata": {},
   "outputs": [],
   "source": [
    "timescale_list = [\"dm\",\"wm\",\"mm\",\"sm\"]\n",
    "for timescale in timescale_list:\n",
    "    os.system(\"mkdir \" + os.path.join(raw_output_path_incremental, timescale))\n",
    "    os.system(\"mkdir \" + os.path.join(raw_output_path_over, timescale))\n",
    "    os.system(\"mkdir \" + os.path.join(raw_output_path_under, timescale))\n",
    "    os.system(\"mkdir \" + os.path.join(raw_output_path_reliable, timescale))"
   ]
  },
  {
   "cell_type": "markdown",
   "metadata": {},
   "source": [
    "### Create Analysis by Adding Noise to teference run and calculate time windows"
   ]
  },
  {
   "cell_type": "markdown",
   "metadata": {},
   "source": [
    "#### Incremental Spread"
   ]
  },
  {
   "cell_type": "code",
   "execution_count": 10,
   "metadata": {},
   "outputs": [
    {
     "name": "stdout",
     "output_type": "stream",
     "text": [
      "Experiment 500/501 done in 31 seconds!\r"
     ]
    }
   ],
   "source": [
    "# Create Empty Lists to save the experiments    \n",
    "dm=[]\n",
    "wm=[]\n",
    "mm=[]\n",
    "sm=[]\n",
    "\n",
    "\n",
    "for sample in np.arange(418,Nsample_increment):\n",
    "    start = datetime.now()\n",
    "    dataset = xr.load_dataset(os.path.join(raw_output_path_incremental, \"Experiment_\"+str(sample).zfill(3)+\".nc\"))\n",
    "    \n",
    "    # Add to the reference run gaussian noise and save it as the same file again with the additional analyis\n",
    "    dataset = lorenz.Reference_To_Analysis(dataset)\n",
    "    dataset.to_netcdf(os.path.join(raw_output_path_incremental, \"Experiment_\" + str(sample).zfill(3)+\"_analysis.nc\"))\n",
    "    \n",
    "    # Create daily, weekly, monthly and seasonal means fromt he dataset\n",
    "    dm_tmp,wm_tmp,mm_tmp,sm_tmp = lorenz.Lorenz_Time_Windows(dataset)\n",
    "        \n",
    "    dm_tmp.to_netcdf(os.path.join(raw_output_path_incremental, \"dm\",\"dm_\" + str(sample).zfill(3) + \".nc\"))\n",
    "    wm_tmp.to_netcdf(os.path.join(raw_output_path_incremental, \"wm\",\"wm_\" + str(sample).zfill(3) + \".nc\"))\n",
    "    mm_tmp.to_netcdf(os.path.join(raw_output_path_incremental, \"mm\",\"mm_\" + str(sample).zfill(3) + \".nc\"))\n",
    "    sm_tmp.to_netcdf(os.path.join(raw_output_path_incremental, \"sm\",\"sm_\" + str(sample).zfill(3) + \".nc\"))\n",
    "        \n",
    "    end = datetime.now()\n",
    "    \n",
    "    dm.append(dm_tmp)\n",
    "    wm.append(wm_tmp)\n",
    "    mm.append(mm_tmp)\n",
    "    sm.append(sm_tmp)\n",
    "    \n",
    "    print(\"Experiment \" + str(sample).zfill(3) + \"/\" + str(Nsample_increment) + \" done in \" + str((end-start).seconds) + \" seconds!\", end =\"\\r\")"
   ]
  },
  {
   "cell_type": "markdown",
   "metadata": {},
   "source": [
    "#### Overconfident forecasts"
   ]
  },
  {
   "cell_type": "code",
   "execution_count": 11,
   "metadata": {},
   "outputs": [
    {
     "name": "stdout",
     "output_type": "stream",
     "text": [
      "Experiment 099/100 done in 27 seconds!\r"
     ]
    }
   ],
   "source": [
    "# Create Empty Lists to save the experiments    \n",
    "dm_over=[]\n",
    "wm_over=[]\n",
    "mm_over=[]\n",
    "sm_over=[]\n",
    "\n",
    "\n",
    "for sample in np.arange(Nsample_over):\n",
    "    start = datetime.now()\n",
    "    dataset = xr.load_dataset(os.path.join(raw_output_path_over , \"Experiment_\"+str(sample).zfill(3)+\".nc\"))\n",
    "    \n",
    "    # Add to the reference run gaussian noise and save it as the same file again with the additional analyis\n",
    "    dataset = lorenz.Reference_To_Analysis(dataset)\n",
    "    dataset.to_netcdf(os.path.join(raw_output_path_over, \"Experiment_\" + str(sample).zfill(3)+\"_analysis.nc\"))\n",
    "    \n",
    "    # Create daily, weekly, monthly and seasonal means fromt he dataset\n",
    "    dm_over_tmp,wm_over_tmp,mm_over_tmp,sm_over_tmp = lorenz.Lorenz_Time_Windows(dataset)\n",
    "        \n",
    "    dm_over_tmp.to_netcdf(os.path.join(raw_output_path_over, \"dm\",\"dm_\" + str(sample).zfill(3) + \".nc\"))\n",
    "    wm_over_tmp.to_netcdf(os.path.join(raw_output_path_over, \"wm\",\"wm_\" + str(sample).zfill(3) + \".nc\"))\n",
    "    mm_over_tmp.to_netcdf(os.path.join(raw_output_path_over, \"mm\",\"mm_\" + str(sample).zfill(3) + \".nc\"))\n",
    "    sm_over_tmp.to_netcdf(os.path.join(raw_output_path_over, \"sm\",\"sm_\" + str(sample).zfill(3) + \".nc\"))\n",
    "        \n",
    "    end = datetime.now()\n",
    "    \n",
    "    dm_over.append(dm_over_tmp)\n",
    "    wm_over.append(wm_over_tmp)\n",
    "    mm_over.append(mm_over_tmp)\n",
    "    sm_over.append(sm_over_tmp)\n",
    "    \n",
    "    print(\"Experiment \" + str(sample).zfill(3) + \"/\" + str(Nsample_over) + \" done in \" + str((end-start).seconds) + \" seconds!\", end =\"\\r\")"
   ]
  },
  {
   "cell_type": "markdown",
   "metadata": {},
   "source": [
    "#### Underconfident forecasts"
   ]
  },
  {
   "cell_type": "code",
   "execution_count": 12,
   "metadata": {},
   "outputs": [
    {
     "name": "stdout",
     "output_type": "stream",
     "text": [
      "Experiment 099/100 done in 42 seconds!!\r"
     ]
    }
   ],
   "source": [
    "# Create Empty Lists to save the experiments    \n",
    "dm_under=[]\n",
    "wm_under=[]\n",
    "mm_under=[]\n",
    "sm_under=[]\n",
    "\n",
    "\n",
    "for sample in np.arange(Nsample_under):\n",
    "    start = datetime.now()\n",
    "    dataset = xr.load_dataset(os.path.join(raw_output_path_under , \"Experiment_\"+str(sample).zfill(3)+\".nc\"))\n",
    "    \n",
    "    # Add to the reference run gaussian noise and save it as the same file again with the additional analyis\n",
    "    dataset = lorenz.Reference_To_Analysis(dataset)\n",
    "    dataset.to_netcdf(os.path.join(raw_output_path_under, \"Experiment_\" + str(sample).zfill(3)+\"_analysis.nc\"))\n",
    "    \n",
    "    # Create daily, weekly, monthly and seasonal means fromt he dataset\n",
    "    dm_under_tmp,wm_under_tmp,mm_under_tmp,sm_under_tmp = lorenz.Lorenz_Time_Windows(dataset)\n",
    "        \n",
    "    dm_under_tmp.to_netcdf(os.path.join(raw_output_path_under, \"dm\",\"dm_\" + str(sample).zfill(3) + \".nc\"))\n",
    "    wm_under_tmp.to_netcdf(os.path.join(raw_output_path_under, \"wm\",\"wm_\" + str(sample).zfill(3) + \".nc\"))\n",
    "    mm_under_tmp.to_netcdf(os.path.join(raw_output_path_under, \"mm\",\"mm_\" + str(sample).zfill(3) + \".nc\"))\n",
    "    sm_under_tmp.to_netcdf(os.path.join(raw_output_path_under, \"sm\",\"sm_\" + str(sample).zfill(3) + \".nc\"))\n",
    "        \n",
    "    end = datetime.now()\n",
    "    \n",
    "    dm_under.append(dm_under_tmp)\n",
    "    wm_under.append(wm_under_tmp)\n",
    "    mm_under.append(mm_under_tmp)\n",
    "    sm_under.append(sm_under_tmp)\n",
    "    \n",
    "    print(\"Experiment \" + str(sample).zfill(3) + \"/\" + str(Nsample_under) + \" done in \" + str((end-start).seconds) + \" seconds!\", end =\"\\r\")"
   ]
  },
  {
   "cell_type": "markdown",
   "metadata": {},
   "source": [
    "### Reliable Forecasts"
   ]
  },
  {
   "cell_type": "code",
   "execution_count": 12,
   "metadata": {},
   "outputs": [
    {
     "name": "stdout",
     "output_type": "stream",
     "text": [
      "Experiment 099/100 done in 23 seconds!\r"
     ]
    }
   ],
   "source": [
    "# Create Empty Lists to save the experiments    \n",
    "dm_reliable=[]\n",
    "wm_reliable=[]\n",
    "mm_reliable=[]\n",
    "sm_reliable=[]\n",
    "\n",
    "\n",
    "for sample in np.arange(Nsample_reliable):\n",
    "    start = datetime.now()\n",
    "    dataset = xr.load_dataset(os.path.join(raw_output_path_reliable , \"Experiment_\"+str(sample).zfill(3)+\".nc\"))\n",
    "    \n",
    "    # Add to the reference run gaussian noise and save it as the same file again with the additional analyis\n",
    "    dataset = lorenz.Reference_To_Analysis(dataset)\n",
    "    dataset.to_netcdf(os.path.join(raw_output_path_reliable, \"Experiment_\" + str(sample).zfill(3)+\"_analysis.nc\"))\n",
    "    \n",
    "    # Create daily, weekly, monthly and seasonal means fromt he dataset\n",
    "    dm_reliable_tmp,wm_reliable_tmp,mm_reliable_tmp,sm_reliable_tmp = lorenz.Lorenz_Time_Windows(dataset)\n",
    "        \n",
    "    dm_reliable_tmp.to_netcdf(os.path.join(raw_output_path_reliable, \"dm\",\"dm_\" + str(sample).zfill(3) + \".nc\"))\n",
    "    wm_reliable_tmp.to_netcdf(os.path.join(raw_output_path_reliable, \"wm\",\"wm_\" + str(sample).zfill(3) + \".nc\"))\n",
    "    mm_reliable_tmp.to_netcdf(os.path.join(raw_output_path_reliable, \"mm\",\"mm_\" + str(sample).zfill(3) + \".nc\"))\n",
    "    sm_reliable_tmp.to_netcdf(os.path.join(raw_output_path_reliable, \"sm\",\"sm_\" + str(sample).zfill(3) + \".nc\"))\n",
    "        \n",
    "    end = datetime.now()\n",
    "    \n",
    "    dm_reliable.append(dm_reliable_tmp)\n",
    "    wm_reliable.append(wm_reliable_tmp)\n",
    "    mm_reliable.append(mm_reliable_tmp)\n",
    "    sm_reliable.append(sm_reliable_tmp)\n",
    "    \n",
    "    print(\"Experiment \" + str(sample).zfill(3) + \"/\" + str(Nsample_reliable) + \" done in \" + str((end-start).seconds) + \" seconds!\", end =\"\\r\")"
   ]
  },
  {
   "cell_type": "markdown",
   "metadata": {},
   "source": [
    "### Normalize and Analyze Full experiments"
   ]
  },
  {
   "cell_type": "markdown",
   "metadata": {},
   "source": [
    "#### Incremental"
   ]
  },
  {
   "cell_type": "code",
   "execution_count": 8,
   "metadata": {},
   "outputs": [],
   "source": [
    "mm_incremental_full_mf=xr.open_mfdataset(os.path.join(raw_output_path_incremental, \"mm\",\"mm_???.nc\"),concat_dim=\"sample\",combine='nested',parallel=False).assign_coords(sample=np.arange(Nsample_increment))\n",
    "sm_incremental_full_mf=xr.open_mfdataset(os.path.join(raw_output_path_incremental, \"sm\",\"sm_???.nc\"),concat_dim=\"sample\",combine='nested',parallel=False).assign_coords(sample=np.arange(Nsample_increment))"
   ]
  },
  {
   "cell_type": "code",
   "execution_count": 8,
   "metadata": {},
   "outputs": [
    {
     "name": "stdout",
     "output_type": "stream",
     "text": [
      "[########################################] | 100% Completed | 14min 32.3s\n",
      "[########################################] | 100% Completed | 21min 49.7s\n"
     ]
    }
   ],
   "source": [
    "with ProgressBar():\n",
    "    sm_incremental_norm_ana = statlorenz.Normalize_Analyse(sm_incremental_full_mf, analysis = \"analysis\", dof=0)\n",
    "    mm_incremental_norm_ana = statlorenz.Normalize_Analyse(mm_incremental_full_mf, analysis = \"analysis\", dof=0)"
   ]
  },
  {
   "cell_type": "code",
   "execution_count": 12,
   "metadata": {},
   "outputs": [],
   "source": [
    "sm_incremental_norm_ana.to_netcdf(os.path.join(path_results,\"Incremental\",\"sm_incremental_norm_ana.nc\"))\n",
    "mm_incremental_norm_ana.to_netcdf(os.path.join(path_results,\"Incremental\",\"mm_incremental_norm_ana.nc\"))"
   ]
  },
  {
   "cell_type": "markdown",
   "metadata": {},
   "source": [
    "### Reliable"
   ]
  },
  {
   "cell_type": "code",
   "execution_count": 12,
   "metadata": {},
   "outputs": [],
   "source": [
    "mm_reliable_full_mf=xr.open_mfdataset(os.path.join(raw_output_path_reliable, \"mm\",\"mm_???.nc\"),concat_dim=\"sample\",combine='nested',parallel=False).assign_coords(sample=np.arange(Nsample_reliable))\n",
    "sm_reliable_full_mf=xr.open_mfdataset(os.path.join(raw_output_path_reliable, \"sm\",\"sm_???.nc\"),concat_dim=\"sample\",combine='nested',parallel=False).assign_coords(sample=np.arange(Nsample_reliable))"
   ]
  },
  {
   "cell_type": "code",
   "execution_count": 15,
   "metadata": {},
   "outputs": [
    {
     "name": "stdout",
     "output_type": "stream",
     "text": [
      "[########################################] | 100% Completed |  3min 15.6s\n",
      "[########################################] | 100% Completed |  4min 17.6s\n"
     ]
    }
   ],
   "source": [
    "with ProgressBar():\n",
    "    sm_reliable_norm_ana = statlorenz.Normalize_Analyse(sm_reliable_full_mf, analysis = \"analysis\", dof=0)\n",
    "    mm_reliable_norm_ana = statlorenz.Normalize_Analyse(mm_reliable_full_mf, analysis = \"analysis\", dof=0)"
   ]
  },
  {
   "cell_type": "code",
   "execution_count": 17,
   "metadata": {},
   "outputs": [],
   "source": [
    "sm_reliable_norm_ana.to_netcdf(os.path.join(path_results,\"Reliable\",\"sm_reliable_norm_ana.nc\"))\n",
    "mm_reliable_norm_ana.to_netcdf(os.path.join(path_results,\"Reliable\",\"mm_reliable_norm_ana.nc\"))"
   ]
  },
  {
   "cell_type": "markdown",
   "metadata": {},
   "source": [
    "### Over"
   ]
  },
  {
   "cell_type": "code",
   "execution_count": 10,
   "metadata": {},
   "outputs": [],
   "source": [
    "mm_over_full_mf=xr.open_mfdataset(os.path.join(raw_output_path_over, \"mm\",\"mm_???.nc\"),concat_dim=\"sample\",combine='nested',parallel=False).assign_coords(sample=np.arange(Nsample_over))\n",
    "sm_over_full_mf=xr.open_mfdataset(os.path.join(raw_output_path_over, \"sm\",\"sm_???.nc\"),concat_dim=\"sample\",combine='nested',parallel=False).assign_coords(sample=np.arange(Nsample_over))"
   ]
  },
  {
   "cell_type": "code",
   "execution_count": 19,
   "metadata": {},
   "outputs": [
    {
     "name": "stdout",
     "output_type": "stream",
     "text": [
      "[########################################] | 100% Completed |  3min 12.0s\n",
      "[########################################] | 100% Completed |  4min  2.8s\n"
     ]
    }
   ],
   "source": [
    "with ProgressBar():\n",
    "    sm_over_norm_ana = statlorenz.Normalize_Analyse(sm_over_full_mf, analysis = \"analysis\", dof=0)\n",
    "    mm_over_norm_ana = statlorenz.Normalize_Analyse(mm_over_full_mf, analysis = \"analysis\", dof=0)"
   ]
  },
  {
   "cell_type": "code",
   "execution_count": 20,
   "metadata": {},
   "outputs": [],
   "source": [
    "sm_over_norm_ana.to_netcdf(os.path.join(path_results,\"Overconfident\",\"sm_over_norm_ana.nc\"))\n",
    "mm_over_norm_ana.to_netcdf(os.path.join(path_results,\"Overconfident\",\"mm_over_norm_ana.nc\"))"
   ]
  },
  {
   "cell_type": "markdown",
   "metadata": {},
   "source": [
    "### Under"
   ]
  },
  {
   "cell_type": "code",
   "execution_count": 11,
   "metadata": {},
   "outputs": [],
   "source": [
    "mm_under_full_mf=xr.open_mfdataset(os.path.join(raw_output_path_under, \"mm\",\"mm_???.nc\"),concat_dim=\"sample\",combine='nested',parallel=False).assign_coords(sample=np.arange(Nsample_under))\n",
    "sm_under_full_mf=xr.open_mfdataset(os.path.join(raw_output_path_under, \"sm\",\"sm_???.nc\"),concat_dim=\"sample\",combine='nested',parallel=False).assign_coords(sample=np.arange(Nsample_under))"
   ]
  },
  {
   "cell_type": "code",
   "execution_count": 22,
   "metadata": {},
   "outputs": [
    {
     "name": "stdout",
     "output_type": "stream",
     "text": [
      "[########################################] | 100% Completed |  2min 56.9s\n",
      "[########################################] | 100% Completed |  4min  0.4s\n"
     ]
    }
   ],
   "source": [
    "with ProgressBar():\n",
    "    sm_under_norm_ana = statlorenz.Normalize_Analyse(sm_under_full_mf, analysis = \"analysis\", dof=0)\n",
    "    mm_under_norm_ana = statlorenz.Normalize_Analyse(mm_under_full_mf, analysis = \"analysis\", dof=0)"
   ]
  },
  {
   "cell_type": "code",
   "execution_count": 23,
   "metadata": {},
   "outputs": [],
   "source": [
    "sm_under_norm_ana.to_netcdf(os.path.join(path_results,\"Underconfident\",\"sm_under_norm_ana.nc\"))\n",
    "mm_under_norm_ana.to_netcdf(os.path.join(path_results,\"Underconfident\",\"mm_under_norm_ana.nc\"))"
   ]
  },
  {
   "cell_type": "markdown",
   "metadata": {},
   "source": [
    "# Calculate Scaife"
   ]
  },
  {
   "cell_type": "markdown",
   "metadata": {},
   "source": [
    "### Seasonal Mean"
   ]
  },
  {
   "cell_type": "code",
   "execution_count": 102,
   "metadata": {},
   "outputs": [],
   "source": [
    "path_sm_reliable_norm_scaife       = os.path.join(path_results,\"Reliable\",       \"sm_reliable_norm_scaife.nc\")\n",
    "path_sm_overconfident_norm_scaife  = os.path.join(path_results,\"Overconfident\",  \"sm_over_norm_scaife.nc\")\n",
    "path_sm_underconfident_norm_scaife = os.path.join(path_results,\"Underconfident\", \"sm_under_norm_scaife.nc\")"
   ]
  },
  {
   "cell_type": "code",
   "execution_count": 25,
   "metadata": {},
   "outputs": [
    {
     "name": "stdout",
     "output_type": "stream",
     "text": [
      "[########################################] | 100% Completed |  3hr 53min 33.8s\n",
      "[########################################] | 100% Completed |  7hr 34min 20.7s\n",
      "[########################################] | 100% Completed | 11hr  7min  1.1s\n"
     ]
    }
   ],
   "source": [
    "with ProgressBar():\n",
    "    sm_reliable_norm_scaife        = statlorenz.Normalize_Scaife_Connected(sm_reliable_full_mf, permutations_da=permutations, Nsample=100)\n",
    "    sm_overconfident_norm_scaife   = statlorenz.Normalize_Scaife_Connected(sm_over_full_mf    , permutations_da=permutations, Nsample=100)\n",
    "    sm_underconfident_norm_scaife  = statlorenz.Normalize_Scaife_Connected(sm_under_full_mf   , permutations_da=permutations, Nsample=100)\n",
    "    "
   ]
  },
  {
   "cell_type": "code",
   "execution_count": 103,
   "metadata": {},
   "outputs": [],
   "source": [
    "sm_reliable_norm_scaife.to_netcdf(path_sm_reliable_norm_scaife)\n",
    "sm_overconfident_norm_scaife.to_netcdf(path_sm_overconfident_norm_scaife)\n",
    "sm_underconfident_norm_scaife.to_netcdf(path_sm_underconfident_norm_scaife)"
   ]
  },
  {
   "cell_type": "markdown",
   "metadata": {},
   "source": [
    "### Monthly Mean"
   ]
  },
  {
   "cell_type": "code",
   "execution_count": 130,
   "metadata": {},
   "outputs": [],
   "source": [
    "path_mm_reliable_norm_scaife       = os.path.join(path_results,\"Reliable\",       \"mm_reliable_norm_scaife.nc\")\n",
    "path_mm_overconfident_norm_scaife  = os.path.join(path_results,\"Overconfident\",  \"mm_over_norm_scaife.nc\")\n",
    "path_mm_underconfident_norm_scaife = os.path.join(path_results,\"Underconfident\", \"mm_under_norm_scaife.nc\")"
   ]
  },
  {
   "cell_type": "code",
   "execution_count": 141,
   "metadata": {},
   "outputs": [
    {
     "name": "stdout",
     "output_type": "stream",
     "text": [
      "Permutation: 99/100 done!\r"
     ]
    }
   ],
   "source": [
    "mm_reliable_norm_scaife        = statlorenz.Normalize_Scaife_Connected(mm_reliable_full_mf.sel({\"leadtime in days\":[3,6,9,12]}), permutations_da=permutations, Nsample=100)\n",
    "mm_overconfident_norm_scaife   = statlorenz.Normalize_Scaife_Connected(mm_over_full_mf.sel({\"leadtime in days\":[3,6,9,12]})    , permutations_da=permutations, Nsample=100)\n",
    "mm_underconfident_norm_scaife  = statlorenz.Normalize_Scaife_Connected(mm_under_full_mf.sel({\"leadtime in days\":[3,6,9,12]})   , permutations_da=permutations, Nsample=100)"
   ]
  },
  {
   "cell_type": "code",
   "execution_count": 142,
   "metadata": {},
   "outputs": [],
   "source": [
    "mm_reliable_norm_scaife.to_netcdf(path_mm_reliable_norm_scaife)\n",
    "mm_overconfident_norm_scaife.to_netcdf(path_mm_overconfident_norm_scaife)\n",
    "mm_underconfident_norm_scaife.to_netcdf(path_mm_underconfident_norm_scaife)"
   ]
  },
  {
   "cell_type": "markdown",
   "metadata": {},
   "source": [
    "## Select Representative"
   ]
  },
  {
   "cell_type": "code",
   "execution_count": 21,
   "metadata": {},
   "outputs": [],
   "source": [
    "sm_reliable_norm_ana = xr.load_dataset(os.path.join(path_results,\"Reliable\"      , \"sm_reliable_norm_ana.nc\"))\n",
    "sm_under_norm_ana    = xr.load_dataset(os.path.join(path_results,\"Underconfident\", \"sm_under_norm_ana.nc\"))\n",
    "sm_over_norm_ana     = xr.load_dataset(os.path.join(path_results,\"Overconfident\" , \"sm_over_norm_ana.nc\"))"
   ]
  },
  {
   "cell_type": "code",
   "execution_count": 22,
   "metadata": {},
   "outputs": [],
   "source": [
    "sm_reliable_norm_ana_12_x = sm_reliable_norm_ana.sel(dimension=\"x\").sel({\"leadtime in days\":12})\n",
    "sm_under_norm_ana_12_x    = sm_under_norm_ana.sel(dimension=\"x\").sel({\"leadtime in days\":12})\n",
    "sm_over_norm_ana_12_x     = sm_over_norm_ana.sel(dimension=\"x\").sel({\"leadtime in days\":12})"
   ]
  },
  {
   "cell_type": "code",
   "execution_count": 18,
   "metadata": {},
   "outputs": [],
   "source": [
    "reliable_min_distance_index = plotting.calculate_smallest_distance(sm_reliable_norm_ana_12_x[\"ratio_of_predictable_components_cor\"],\n",
    "                                                                   sm_reliable_norm_ana_12_x[\"actual_predictability\"])\n",
    "over_min_distance_index = plotting.calculate_smallest_distance(sm_over_norm_ana_12_x[\"ratio_of_predictable_components_cor\"],\n",
    "                                                                   sm_over_norm_ana_12_x[\"actual_predictability\"])\n",
    "under_min_distance_index = plotting.calculate_smallest_distance(sm_under_norm_ana_12_x[\"ratio_of_predictable_components_cor\"],\n",
    "                                                                   sm_under_norm_ana_12_x[\"actual_predictability\"])"
   ]
  },
  {
   "cell_type": "code",
   "execution_count": 19,
   "metadata": {},
   "outputs": [
    {
     "name": "stderr",
     "output_type": "stream",
     "text": [
      "/work/uo1075/u301101/conda_envs/jupyterlab_env/lib/python3.8/site-packages/xarray/core/dataarray.py:2266: SerializationWarning: coordinate 'leadtime in days' has a space in its name, which means it cannot be marked as a coordinate on disk and will be saved as a data variable instead\n",
      "  return dataset.to_netcdf(*args, **kwargs)\n"
     ]
    }
   ],
   "source": [
    "reliable_min_distance_index.rename(\"index\").to_netcdf(os.path.join(path_results, \"Reliable\"      , \"sm_reliable_min_distance_index.nc\"))\n",
    "over_min_distance_index.rename(\"index\").to_netcdf(os.path.join(path_results    , \"Overconfident\" , \"sm_over_min_distance_index.nc\"    ))\n",
    "under_min_distance_index.rename(\"index\").to_netcdf(os.path.join(path_results   , \"Underconfident\", \"sm_under_min_distance_index.nc\"   ))"
   ]
  },
  {
   "cell_type": "markdown",
   "metadata": {},
   "source": [
    "# Export Numbers"
   ]
  },
  {
   "cell_type": "markdown",
   "metadata": {},
   "source": [
    "## Reliable"
   ]
  },
  {
   "cell_type": "code",
   "execution_count": 40,
   "metadata": {},
   "outputs": [
    {
     "name": "stdout",
     "output_type": "stream",
     "text": [
      "$0.5150\\ \\pm \\ 0.0080$\n"
     ]
    }
   ],
   "source": [
    "sm_reliable_norm_ana_12_x_mean_act    = sm_reliable_norm_ana_12_x[\"actual_predictability\"].mean(dim=\"sample\").values\n",
    "sm_reliable_norm_ana_12_x_meanstd_act = sm_reliable_norm_ana_12_x[\"actual_predictability\"].std(dim=\"sample\").values/np.sqrt(Nsample_reliable)\n",
    "\n",
    "general.write_number(sm_reliable_norm_ana_12_x_mean_act,    os.path.join(path_numbers,\"sm_reliable_mean_act.txt\"))\n",
    "general.write_number(sm_reliable_norm_ana_12_x_meanstd_act, os.path.join(path_numbers,\"sm_reliable_meanstd_act.txt\")) \n",
    "\n",
    "general.latex_export_variable(sm_reliable_norm_ana_12_x_mean_act, \n",
    "                              sm_reliable_norm_ana_12_x_meanstd_act, \n",
    "                              os.path.join(path_numbers,\"sm_reliable_mean_act.txt\"), significant_digits=2)"
   ]
  },
  {
   "cell_type": "code",
   "execution_count": 41,
   "metadata": {},
   "outputs": [
    {
     "name": "stdout",
     "output_type": "stream",
     "text": [
      "$0.985\\ \\pm \\ 0.013$\n"
     ]
    }
   ],
   "source": [
    "sm_reliable_norm_ana_12_x_mean_rpc     = sm_reliable_norm_ana_12_x[\"ratio_of_predictable_components_cor\"].mean(dim=\"sample\").values\n",
    "sm_reliable_norm_ana_12_x_meanstd_rpc  = sm_reliable_norm_ana_12_x[\"ratio_of_predictable_components_cor\"].std(dim=\"sample\").values/np.sqrt(Nsample_reliable)\n",
    "\n",
    "general.write_number(sm_reliable_norm_ana_12_x_mean_rpc,    os.path.join(path_numbers,\"sm_reliable_mean_rpc.txt\"))\n",
    "general.write_number(sm_reliable_norm_ana_12_x_meanstd_rpc, os.path.join(path_numbers,\"sm_reliable_meanstd_rpc.txt\")) \n",
    "\n",
    "general.latex_export_variable(sm_reliable_norm_ana_12_x_mean_rpc, \n",
    "                              sm_reliable_norm_ana_12_x_meanstd_rpc, \n",
    "                              os.path.join(path_numbers,\"sm_reliable_mean_rpc.txt\"), significant_digits=2)"
   ]
  },
  {
   "cell_type": "markdown",
   "metadata": {},
   "source": [
    "## Over"
   ]
  },
  {
   "cell_type": "code",
   "execution_count": 36,
   "metadata": {},
   "outputs": [
    {
     "name": "stdout",
     "output_type": "stream",
     "text": [
      "$0.4319\\ \\pm \\ 0.0091$\n"
     ]
    }
   ],
   "source": [
    "sm_over_norm_ana_12_x_mean_act    = sm_over_norm_ana_12_x[\"actual_predictability\"].mean(dim=\"sample\").values\n",
    "sm_over_norm_ana_12_x_meanstd_act = sm_over_norm_ana_12_x[\"actual_predictability\"].std(dim=\"sample\").values/np.sqrt(Nsample_over)\n",
    "\n",
    "\n",
    "general.write_number(sm_over_norm_ana_12_x_mean_act,    os.path.join(path_numbers,\"sm_over_mean_act.txt\"))\n",
    "general.write_number(sm_over_norm_ana_12_x_meanstd_act, os.path.join(path_numbers,\"sm_over_meanstd_act.txt\")) \n",
    "\n",
    "general.latex_export_variable(sm_over_norm_ana_12_x_mean_act, \n",
    "                              sm_over_norm_ana_12_x_meanstd_act, \n",
    "                              os.path.join(path_numbers,\"sm_over_mean_act_latex.txt\"), significant_digits=2)"
   ]
  },
  {
   "cell_type": "code",
   "execution_count": 37,
   "metadata": {},
   "outputs": [
    {
     "name": "stdout",
     "output_type": "stream",
     "text": [
      "$0.584\\ \\pm \\ 0.012$\n"
     ]
    }
   ],
   "source": [
    "sm_over_norm_ana_12_x_mean_rpc    = sm_over_norm_ana_12_x[\"ratio_of_predictable_components_cor\"].mean(dim=\"sample\").values\n",
    "sm_over_norm_ana_12_x_meanstd_rpc = sm_over_norm_ana_12_x[\"ratio_of_predictable_components_cor\"].std(dim=\"sample\").values/np.sqrt(Nsample_over)\n",
    "\n",
    "general.write_number(sm_over_norm_ana_12_x_mean_rpc,    os.path.join(path_numbers,\"sm_over_mean_rpc.txt\"))\n",
    "general.write_number(sm_over_norm_ana_12_x_meanstd_rpc, os.path.join(path_numbers,\"sm_over_meanstd_rpc.txt\")) \n",
    "\n",
    "general.latex_export_variable(sm_over_norm_ana_12_x_mean_rpc, \n",
    "                              sm_over_norm_ana_12_x_meanstd_rpc, \n",
    "                              os.path.join(path_numbers,\"sm_over_mean_rpc.txt\"), significant_digits=2)"
   ]
  },
  {
   "cell_type": "markdown",
   "metadata": {},
   "source": [
    "## Under"
   ]
  },
  {
   "cell_type": "code",
   "execution_count": 38,
   "metadata": {},
   "outputs": [
    {
     "name": "stdout",
     "output_type": "stream",
     "text": [
      "$0.3152\\ \\pm \\ 0.0088$\n"
     ]
    }
   ],
   "source": [
    "sm_under_norm_ana_12_x_mean_act    = sm_under_norm_ana_12_x[\"actual_predictability\"].mean(dim=\"sample\").values\n",
    "sm_under_norm_ana_12_x_meanstd_act = sm_under_norm_ana_12_x[\"actual_predictability\"].std(dim=\"sample\").values/np.sqrt(Nsample_under)\n",
    "\n",
    "general.write_number(sm_under_norm_ana_12_x_mean_act,    os.path.join(path_numbers,\"sm_under_mean_act.txt\"))\n",
    "general.write_number(sm_under_norm_ana_12_x_meanstd_act, os.path.join(path_numbers,\"sm_under_meanstd_act.txt\")) \n",
    "\n",
    "general.latex_export_variable(sm_under_norm_ana_12_x_mean_act, \n",
    "                              sm_under_norm_ana_12_x_meanstd_act, \n",
    "                              os.path.join(path_numbers,\"sm_over_mean_act.txt\"), significant_digits=2)"
   ]
  },
  {
   "cell_type": "code",
   "execution_count": 39,
   "metadata": {},
   "outputs": [
    {
     "name": "stdout",
     "output_type": "stream",
     "text": [
      "$1.369\\ \\pm \\ 0.038$\n"
     ]
    }
   ],
   "source": [
    "sm_under_norm_ana_12_x_mean_rpc    = sm_under_norm_ana_12_x[\"ratio_of_predictable_components_cor\"].mean(dim=\"sample\").values\n",
    "sm_under_norm_ana_12_x_meanstd_rpc = sm_under_norm_ana_12_x[\"ratio_of_predictable_components_cor\"].std(dim=\"sample\").values/np.sqrt(Nsample_under)\n",
    "\n",
    "general.write_number(sm_under_norm_ana_12_x_mean_rpc,    os.path.join(path_numbers,\"sm_under_mean_rpc.txt\"))\n",
    "general.write_number(sm_under_norm_ana_12_x_meanstd_rpc, os.path.join(path_numbers,\"sm_under_meanstd_rpc.txt\")) \n",
    "\n",
    "general.latex_export_variable(sm_under_norm_ana_12_x_mean_rpc, \n",
    "                              sm_under_norm_ana_12_x_meanstd_rpc, \n",
    "                              os.path.join(path_numbers,\"sm_under_mean_rpc.txt\"), significant_digits=2)"
   ]
  },
  {
   "cell_type": "code",
   "execution_count": null,
   "metadata": {},
   "outputs": [],
   "source": []
  }
 ],
 "metadata": {
  "kernelspec": {
   "display_name": "Python 3",
   "language": "python",
   "name": "python3"
  },
  "language_info": {
   "codemirror_mode": {
    "name": "ipython",
    "version": 3
   },
   "file_extension": ".py",
   "mimetype": "text/x-python",
   "name": "python",
   "nbconvert_exporter": "python",
   "pygments_lexer": "ipython3",
   "version": "3.8.0"
  }
 },
 "nbformat": 4,
 "nbformat_minor": 4
}
